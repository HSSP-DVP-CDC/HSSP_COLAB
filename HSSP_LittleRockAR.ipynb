{
  "nbformat": 4,
  "nbformat_minor": 0,
  "metadata": {
    "colab": {
      "name": "HSSP_LittleRockAR.ipynb",
      "provenance": [],
      "collapsed_sections": [],
      "include_colab_link": true
    },
    "kernelspec": {
      "name": "python3",
      "display_name": "Python 3"
    },
    "language_info": {
      "name": "python"
    }
  },
  "cells": [
    {
      "cell_type": "markdown",
      "metadata": {
        "id": "view-in-github",
        "colab_type": "text"
      },
      "source": [
        "<a href=\"https://colab.research.google.com/github/HSSP-DVP-CDC/HSSP_COLAB/blob/main/HSSP_LittleRockAR.ipynb\" target=\"_parent\"><img src=\"https://colab.research.google.com/assets/colab-badge.svg\" alt=\"Open In Colab\"/></a>"
      ]
    },
    {
      "cell_type": "code",
      "execution_count": null,
      "metadata": {
        "id": "0UvF3Tr1ffyd"
      },
      "outputs": [],
      "source": [
        "#Little Rock, Arkansas"
      ]
    },
    {
      "cell_type": "code",
      "source": [
        "# For PDF conversion\n",
        "!apt-get install texlive texlive-xetex texlive-latex-extra pandoc\n",
        "!pip install pypandoc"
      ],
      "metadata": {
        "id": "RPwygo8n6o8d"
      },
      "execution_count": null,
      "outputs": []
    },
    {
      "cell_type": "code",
      "source": [
        "#Install Selenium and chrome webdriver\n",
        "!pip install selenium\n",
        "!apt-get update \n",
        "!apt install chromium-chromedriver"
      ],
      "metadata": {
        "id": "LBmX4XLnfpWL"
      },
      "execution_count": null,
      "outputs": []
    },
    {
      "cell_type": "code",
      "source": [
        "#Import selenium libraries and chrome driver\n",
        "from selenium import webdriver\n",
        "from selenium.webdriver.common.by import By\n",
        "from selenium.webdriver.chrome.options import Options\n",
        "import sys\n",
        "sys.path.insert(0,'/usr/lib/chromium-browser/chromedriver')\n",
        "\n",
        "#Import time and pandas\n",
        "import time \n",
        "from time import sleep\n",
        "import pandas as pd"
      ],
      "metadata": {
        "id": "2SE03GTNfqBZ"
      },
      "execution_count": null,
      "outputs": []
    },
    {
      "cell_type": "code",
      "source": [
        "#Import Google Drive\n",
        "#USERNAME: ------@gmail.com\n",
        "#PASSWORD: ------\n",
        "from google.colab import drive\n",
        "drive.mount('/content/gdrive')"
      ],
      "metadata": {
        "id": "xnZc7RYgEZr2"
      },
      "execution_count": null,
      "outputs": []
    },
    {
      "cell_type": "code",
      "source": [
        "#Set Chrome Options\n",
        "options = Options()\n",
        "options.add_argument('--headless')\n",
        "options.add_argument('--no-sandbox')\n",
        "options.add_argument('--disable-dev-shm-usage')\n",
        "prefs = {\"download.default_directory\":\"/content/gdrive/MyDrive/HSSP/LittleRockAR\"}\n",
        "options.add_experimental_option('prefs', prefs)"
      ],
      "metadata": {
        "id": "P2n8Bi9Gfsda"
      },
      "execution_count": null,
      "outputs": []
    },
    {
      "cell_type": "code",
      "source": [
        "#Set Chrome Driver \n",
        "driver = webdriver.Chrome('chromedriver', chrome_options=options)\n",
        "driver.implicitly_wait(10)"
      ],
      "metadata": {
        "id": "eSSRFU7af3wY"
      },
      "execution_count": null,
      "outputs": []
    },
    {
      "cell_type": "code",
      "source": [
        "#Fetch webpage data\n",
        "driver.get(\"https://lrstat.littlerock.gov/Safe-City/Little-Rock-Police-Department-Statistic-Insights/9iy3-rb7k\")"
      ],
      "metadata": {
        "id": "-Qh6dwzif4RZ"
      },
      "execution_count": null,
      "outputs": []
    },
    {
      "cell_type": "code",
      "source": [
        "#Button to click filter by homicide\n",
        "filt_homicide = driver.find_element(By.XPATH, \"//*[@id='card-container']/div[2]/card/div[2]/column-chart/div/div/div[2]/div[1]/div[12]/div[1]\")\n",
        "filt_homicide.click()\n",
        "print(\"Filter clicked\")\n",
        "\n",
        "sleep (10)"
      ],
      "metadata": {
        "id": "eEEyuKlwf8Yb"
      },
      "execution_count": null,
      "outputs": []
    },
    {
      "cell_type": "code",
      "source": [
        "#Button to export current rows\n",
        "export_button = driver.find_element(By.XPATH, \"/html/body/div[2]/div/div/info-pane/div/div[2]/div/export-menu/div/button[1]\") \n",
        "export_button.click()\n",
        "print(\"Export clicked\")\n",
        "\n",
        "sleep(10)"
      ],
      "metadata": {
        "id": "lMxJlusZf-vO"
      },
      "execution_count": null,
      "outputs": []
    },
    {
      "cell_type": "code",
      "source": [
        "#Button to change to only select current filter\n",
        "currentfilt_button = driver.find_element(By.XPATH, \"/html/body/div[2]/div/div/info-pane/div/div[2]/div/export-menu/div/div/div/div[2]/div/span[2]/label/input\")\n",
        "currentfilt_button.click()\n",
        "print(\"Change to current filter\")\n",
        "\n",
        "sleep(10)"
      ],
      "metadata": {
        "id": "Npc6-eUdgAqM"
      },
      "execution_count": null,
      "outputs": []
    },
    {
      "cell_type": "code",
      "source": [
        "#Button to download the relevant data\n",
        "dwnload = driver.find_element(By.XPATH, \"/html/body/div[2]/div/div/info-pane/div/div[2]/div/export-menu/div/div/div/div[2]/a\")\n",
        "dwnload.click()\n",
        "print(\"Download relevant data\")\n",
        "\n",
        "sleep(120)\n",
        "print(\"Sleep Complete\")"
      ],
      "metadata": {
        "id": "2PQei2b8gDLV"
      },
      "execution_count": null,
      "outputs": []
    },
    {
      "cell_type": "code",
      "source": [
        "#Close browser window when complete\n",
        "driver.close()"
      ],
      "metadata": {
        "id": "kGzEaBCMgGLD"
      },
      "execution_count": null,
      "outputs": []
    },
    {
      "cell_type": "code",
      "source": [
        "#Read .csv file\n",
        "df = pd.read_csv('/content/gdrive/MyDrive/HSSP/LittleRockAR/Little_Rock_Police_Department_Statistics_2017_to_Year_to_Date.csv')\n",
        "# print(df)"
      ],
      "metadata": {
        "id": "0xGNK8_agIG8"
      },
      "execution_count": null,
      "outputs": []
    },
    {
      "cell_type": "code",
      "source": [
        "# Sort the data\n",
        "sorted_df = df.sort_values(by=[\"INCIDENT_DATE\"], ascending=False)\n",
        "\n",
        "#Create new dataframe\n",
        "sorted_df.to_csv('/content/gdrive/MyDrive/HSSP/LittleRockAR/arkansas_homicide_sorted.csv', index=False)\n",
        "\n",
        "df = pd.read_csv(\"/content/gdrive/MyDrive/HSSP/LittleRockAR/arkansas_homicide_sorted.csv\")\n",
        "# print(df)"
      ],
      "metadata": {
        "id": "IF7nqJXWDxSK"
      },
      "execution_count": null,
      "outputs": []
    },
    {
      "cell_type": "code",
      "source": [
        "#Grab only values that are '09A' or 'Murder' for 2021\n",
        "# contains_values = df[df['INCIDENT_DATE'].str.contains('2021')]\n",
        "# print(contains_values)\n",
        "\n",
        "# #Create new dataframe\n",
        "# contains_values.to_csv('/content/gdrive/MyDrive/HSSP/LittleRockAR/arkansas_homicide_2021.csv', index=False)\n",
        "\n",
        "# df = pd.read_csv(\"/content/gdrive/MyDrive/HSSP/LittleRockAR/arkansas_homicide_2021.csv\")\n",
        "# print(df)"
      ],
      "metadata": {
        "id": "UjiOhn2zIBZT"
      },
      "execution_count": null,
      "outputs": []
    },
    {
      "cell_type": "code",
      "source": [
        "#Grab only values that are '09A' or 'Murder' for 2022\n",
        "contains_values = df[df['INCIDENT_DATE'].str.contains('2022')]\n",
        "# print(contains_values)\n",
        "\n",
        "#Create new dataframe\n",
        "contains_values.to_csv('/content/gdrive/MyDrive/HSSP/LittleRockAR/arkansas_homicide_2022.csv', index=False)\n",
        "\n",
        "df = pd.read_csv(\"/content/gdrive/MyDrive/HSSP/LittleRockAR/arkansas_homicide_2022.csv\")\n",
        "print(df)"
      ],
      "metadata": {
        "id": "LW_ZR-FLFDcV"
      },
      "execution_count": null,
      "outputs": []
    },
    {
      "cell_type": "code",
      "source": [
        "print(\"Program complete\")"
      ],
      "metadata": {
        "id": "5vncbAjWWQc0"
      },
      "execution_count": null,
      "outputs": []
    },
    {
      "cell_type": "code",
      "source": [
        "## FOR PDF CONVERSIONS ##\n",
        "\n",
        "# Copy into working directory\n",
        "!cp /content/gdrive/MyDrive/ColabNotebooks/HSSP_LittleRockAR.ipynb ./\n",
        "\n",
        "# Convert to PDF\n",
        "!jupyter nbconvert --to PDF \"HSSP_LittleRockAR.ipynb\" "
      ],
      "metadata": {
        "id": "JN6hPvlv6tE0"
      },
      "execution_count": null,
      "outputs": []
    }
  ]
}