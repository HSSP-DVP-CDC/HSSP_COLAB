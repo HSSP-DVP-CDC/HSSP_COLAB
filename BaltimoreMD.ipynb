{
  "nbformat": 4,
  "nbformat_minor": 0,
  "metadata": {
    "colab": {
      "name": "BaltimoreMD.ipynb",
      "provenance": [],
      "collapsed_sections": [],
      "include_colab_link": true
    },
    "kernelspec": {
      "name": "python3",
      "display_name": "Python 3"
    },
    "language_info": {
      "name": "python"
    }
  },
  "cells": [
    {
      "cell_type": "markdown",
      "metadata": {
        "id": "view-in-github",
        "colab_type": "text"
      },
      "source": [
        "<a href=\"https://colab.research.google.com/github/HSSP-DVP-CDC/HSSP_COLAB/blob/main/BaltimoreMD.ipynb\" target=\"_parent\"><img src=\"https://colab.research.google.com/assets/colab-badge.svg\" alt=\"Open In Colab\"/></a>"
      ]
    },
    {
      "cell_type": "code",
      "execution_count": 1,
      "metadata": {
        "id": "fdhvt61o80Uf"
      },
      "outputs": [],
      "source": [
        "#Baltimore, Maryland\n",
        "#Requires a pip install <arcgis> API to address login credentials during automated testing\n",
        "#Source: https://developers.arcgis.com/python/guide/working-with-different-authentication-schemes/\n",
        "#Helpful StackOverflow about working with shadowroots: https://stackoverflow.com/questions/68909696/clicking-side-panel-elements-in-selenium-without-iframes\n"
      ]
    },
    {
      "cell_type": "code",
      "source": [
        "#Install Selenium and chrome webdriver\n",
        "!pip install selenium\n",
        "!apt-get update \n",
        "!apt install chromium-chromedriver\n",
        "!pip install arcgis\n",
        "!pip install --upgrade arcgis\n",
        "!pip install tornado==6.1"
      ],
      "metadata": {
        "id": "aZs8VMCqSWz3"
      },
      "execution_count": null,
      "outputs": []
    },
    {
      "cell_type": "code",
      "source": [
        "#Import libraries\n",
        "from selenium import webdriver\n",
        "from selenium.webdriver.common.by import By\n",
        "from selenium.webdriver.chrome.options import Options\n",
        "from selenium.webdriver.support import expected_conditions as EC\n",
        "from selenium.webdriver.support.ui import Select\n",
        "from selenium.webdriver.support.ui import WebDriverWait\n",
        "import sys\n",
        "sys.path.insert(0,'/usr/lib/chromium-browser/chromedriver')\n",
        "\n",
        "#Import Google Drive\n",
        "from google.colab import drive\n",
        "drive._mount('/content/gdrive')"
      ],
      "metadata": {
        "colab": {
          "base_uri": "https://localhost:8080/"
        },
        "id": "Vp5wqLlOQzHo",
        "outputId": "680d5fac-8ac8-4c17-c504-b03f53138099"
      },
      "execution_count": 3,
      "outputs": [
        {
          "output_type": "stream",
          "name": "stdout",
          "text": [
            "Drive already mounted at /content/gdrive; to attempt to forcibly remount, call drive.mount(\"/content/gdrive\", force_remount=True).\n"
          ]
        }
      ]
    },
    {
      "cell_type": "code",
      "source": [
        "#Import time, sleep, pandas, arcgis\n",
        "import time \n",
        "from time import sleep\n",
        "import pandas as pd\n",
        "import arcgis\n",
        "from arcgis.gis import GIS"
      ],
      "metadata": {
        "id": "6v0aZajkTPRp"
      },
      "execution_count": 4,
      "outputs": []
    },
    {
      "cell_type": "code",
      "source": [
        "#Set Chrome Options\n",
        "options = Options()\n",
        "options.add_argument('--headless')\n",
        "options.add_argument('--no-sandbox')\n",
        "options.add_argument('--disable-dev-shm-usage')\n",
        "prefs = {\"download.default_directory\":\"/content/gdrive/MyDrive/HSSP/BaltimoreMD\"}\n",
        "options.add_experimental_option('prefs', prefs)\n",
        "options.add_experimental_option('excludeSwitches', ['enable-logging'])"
      ],
      "metadata": {
        "id": "cFWoz6w8ROuZ"
      },
      "execution_count": 5,
      "outputs": []
    },
    {
      "cell_type": "code",
      "source": [
        "#Set Chrome Driver \n",
        "driver = webdriver.Chrome('chromedriver', chrome_options=options)\n",
        "driver.implicitly_wait(10)"
      ],
      "metadata": {
        "colab": {
          "base_uri": "https://localhost:8080/"
        },
        "id": "tgnsZPOhRPgj",
        "outputId": "480b31ca-9669-4eb8-d649-b36e0cfa52d5"
      },
      "execution_count": 6,
      "outputs": [
        {
          "output_type": "stream",
          "name": "stderr",
          "text": [
            "/usr/local/lib/python3.7/dist-packages/ipykernel_launcher.py:2: DeprecationWarning:\n",
            "\n",
            "use options instead of chrome_options\n",
            "\n"
          ]
        }
      ]
    },
    {
      "cell_type": "code",
      "source": [
        "#Fetch webpage data (already filtered by 'Homicide/Non-Negligent Murder')\n",
        "driver.get(\"https://data.baltimorecity.gov/datasets/part1-crime-data/explore?filters=eyJEZXNjcmlwdGlvbiI6WyJIT01JQ0lERSJdfQ%3D%3D&location=39.293315%2C-76.603608%2C14.00&showTable=true\")\n",
        "wait = WebDriverWait(driver, 60)"
      ],
      "metadata": {
        "id": "l80W95bKRy4I"
      },
      "execution_count": 7,
      "outputs": []
    },
    {
      "cell_type": "code",
      "source": [
        "#ARCGIS Authetication \n",
        "print(\"ArcGIS Online as anonymous user\")    \n",
        "gis = GIS()\n",
        "print(\"Logged in as anonymous user to \" + gis.properties.portalName)\n",
        "\n",
        "sleep(20)"
      ],
      "metadata": {
        "colab": {
          "base_uri": "https://localhost:8080/"
        },
        "id": "CkptRLRmR25m",
        "outputId": "2143c628-d97f-4174-df3d-8b1655388df7"
      },
      "execution_count": 8,
      "outputs": [
        {
          "output_type": "stream",
          "name": "stdout",
          "text": [
            "ArcGIS Online as anonymous user\n",
            "Logged in as anonymous user to ArcGIS Online\n"
          ]
        }
      ]
    },
    {
      "cell_type": "code",
      "source": [
        "#Button to begin download options\n",
        "wait.until(EC.element_to_be_clickable((By.CSS_SELECTOR, '#ember102'))).click()\n",
        "driver.execute_script('document.querySelector(\"div > button:nth-child(4)\").click()')\n",
        "\n",
        "print(\"Download option initiated\")\n",
        "\n",
        "sleep(20)"
      ],
      "metadata": {
        "id": "2JWHFbCrR6jm"
      },
      "execution_count": null,
      "outputs": []
    },
    {
      "cell_type": "code",
      "source": [
        "#Button to toggle filter\n",
        "wait.until(EC.element_to_be_clickable((By.CSS_SELECTOR, '#ember47'))).click()\n",
        "driver.execute_script('document.querySelector(\"div > div > div:nth-child(1) > div > div > div.dataset-filter-toggle > div > calcite-switch\").click()')\n",
        "\n",
        "print(\"Toggle initiated\")\n",
        "\n",
        "sleep(15)"
      ],
      "metadata": {
        "id": "4dyfJ16OR-wq"
      },
      "execution_count": null,
      "outputs": []
    },
    {
      "cell_type": "code",
      "source": [
        "#Button to download csv\n",
        "wait.until(EC.element_to_be_clickable((By.CSS_SELECTOR, '#ember47'))).click()\n",
        "wait.until(EC.element_to_be_clickable((By.CSS_SELECTOR, \"div > div > div:nth-child(1) > div > div > div:nth-child(6) > hub-download-card\")))\n",
        "driver.execute_script('document.querySelector(\"div > div > div:nth-child(6) > hub-download-card\").shadowRoot.querySelector(\"calcite-card > div > calcite-dropdown > calcite-button\").click()')\n",
        "print(\"Downloading csv\")\n",
        "\n",
        "sleep(15)"
      ],
      "metadata": {
        "id": "L09bAYeKSBkz"
      },
      "execution_count": null,
      "outputs": []
    },
    {
      "cell_type": "code",
      "source": [
        "#Button to select new data for download\n",
        "wait.until(EC.element_to_be_clickable((By.CSS_SELECTOR, '#ember47'))).click()\n",
        "wait.until(EC.element_to_be_clickable((By.CSS_SELECTOR, \"div > div > div:nth-child(1) > div > div > div:nth-child(6) > hub-download-card\")))\n",
        "driver.execute_script('document.querySelector(\"div > div > div:nth-child(6) > hub-download-card\").shadowRoot.querySelector(\"calcite-card > div > calcite-dropdown > calcite-dropdown-group > calcite-dropdown-item:nth-child(1)\").shadowRoot.querySelector(\"div\").click()')\n",
        "print(\"Generate new download with latest data\")\n",
        "\n",
        "sleep(120)"
      ],
      "metadata": {
        "id": "N0drwvY5SFCF"
      },
      "execution_count": null,
      "outputs": []
    },
    {
      "cell_type": "code",
      "source": [
        "#Close browser window when complete\n",
        "driver.close()  "
      ],
      "metadata": {
        "id": "1OBuyM0SSIHX"
      },
      "execution_count": null,
      "outputs": []
    }
  ]
}