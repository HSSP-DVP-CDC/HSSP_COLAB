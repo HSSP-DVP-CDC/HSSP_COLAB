{
  "nbformat": 4,
  "nbformat_minor": 0,
  "metadata": {
    "colab": {
      "name": "HSSP_DetroitMI.ipynb",
      "provenance": [],
      "collapsed_sections": [],
      "include_colab_link": true
    },
    "kernelspec": {
      "name": "python3",
      "display_name": "Python 3"
    },
    "language_info": {
      "name": "python"
    }
  },
  "cells": [
    {
      "cell_type": "markdown",
      "metadata": {
        "id": "view-in-github",
        "colab_type": "text"
      },
      "source": [
        "<a href=\"https://colab.research.google.com/github/HSSP-DVP-CDC/HSSP_COLAB/blob/main/HSSP_DetroitMI.ipynb\" target=\"_parent\"><img src=\"https://colab.research.google.com/assets/colab-badge.svg\" alt=\"Open In Colab\"/></a>"
      ]
    },
    {
      "cell_type": "code",
      "execution_count": null,
      "metadata": {
        "id": "M4iICKpls-p7"
      },
      "outputs": [],
      "source": [
        "#Detroit, Michigan\n",
        "#THIS IS NOT WORKING CODE AT THIS TIME WITHIN GOOGLE COLAB \n",
        "#THERE IS A SERVER ISSUE THAT WILL NOT LOAD A DYNAMIC PAGE - CODE WORKS WHEN RUN ON A LOCAL MACHINE \n",
        "#DOES NOT LOAD WHEN IT IS IN '---HEADLESS' MODE"
      ]
    },
    {
      "cell_type": "code",
      "source": [
        "# For PDF conversion\n",
        "!apt-get install texlive texlive-xetex texlive-latex-extra pandoc\n",
        "!pip install pypandoc"
      ],
      "metadata": {
        "id": "7LUffm6O-1AP"
      },
      "execution_count": null,
      "outputs": []
    },
    {
      "cell_type": "code",
      "source": [
        "#Install Selenium and chrome webdriver\n",
        "!pip install selenium\n",
        "!apt-get update \n",
        "!apt install chromium-chromedriver\n",
        "!pip install arcgis\n",
        "!pip install --upgrade arcgis\n",
        "!pip install tornado==4.5.2"
      ],
      "metadata": {
        "id": "2hcNy2dVtCdQ"
      },
      "execution_count": null,
      "outputs": []
    },
    {
      "cell_type": "code",
      "source": [
        "#Import libraries\n",
        "from selenium import webdriver\n",
        "from selenium.webdriver.common.by import By\n",
        "from selenium.webdriver.chrome.options import Options\n",
        "from selenium.webdriver.support import expected_conditions as EC\n",
        "from selenium.webdriver.support.ui import Select\n",
        "from selenium.webdriver.support.ui import WebDriverWait\n",
        "import sys\n",
        "sys.path.insert(0,'/usr/lib/chromium-browser/chromedriver')"
      ],
      "metadata": {
        "id": "d_naYrestG6E"
      },
      "execution_count": null,
      "outputs": []
    },
    {
      "cell_type": "code",
      "source": [
        "#Import Google Drive\n",
        "#USERNAME: ------@gmail.com\n",
        "#PASSWORD: ------\n",
        "from google.colab import drive\n",
        "drive.mount('/content/gdrive')"
      ],
      "metadata": {
        "id": "vem5b6aGVA4L"
      },
      "execution_count": null,
      "outputs": []
    },
    {
      "cell_type": "code",
      "source": [
        "#Import time, sleep, pandas, arcgis\n",
        "import time \n",
        "from time import sleep\n",
        "import pandas as pd\n",
        "import tornado.ioloop\n",
        "import arcgis\n",
        "from arcgis.gis import GIS"
      ],
      "metadata": {
        "id": "EFQmPEKWtJOf"
      },
      "execution_count": null,
      "outputs": []
    },
    {
      "cell_type": "code",
      "source": [
        "#Set Chrome Options\n",
        "options = Options()\n",
        "options.add_argument('--headless')\n",
        "options.add_argument('--no-sandbox')\n",
        "options.add_argument('--disable-dev-shm-usage')\n",
        "prefs = {\"download.default_directory\":\"/content/gdrive/MyDrive/HSSP/BaltimoreMD\"}\n",
        "options.add_experimental_option('prefs', prefs)\n",
        "options.add_experimental_option('excludeSwitches', ['enable-logging'])"
      ],
      "metadata": {
        "id": "QFCNrbpItMD7"
      },
      "execution_count": null,
      "outputs": []
    },
    {
      "cell_type": "code",
      "source": [
        "#Set Chrome Driver \n",
        "driver = webdriver.Chrome('chromedriver', chrome_options=options)\n",
        "driver.implicitly_wait(10)"
      ],
      "metadata": {
        "id": "rgtPSFJWtOt9"
      },
      "execution_count": null,
      "outputs": []
    },
    {
      "cell_type": "code",
      "source": [
        "#Fetch webpage data (already filtered by 'Homicide/Non-Negligent Murder')\n",
        "driver.get(\"https://data.detroitmi.gov/datasets/rms-crime-incidents/explore?filters=eyJjaGFyZ2VfZGVzY3JpcHRpb24iOlsiTVVSREVSIC8gTk9OLU5FR0xJR0VOVCBNQU5TTEFVR0hURVIgKFZPTFVOVEFSWSkiLCJNVVJERVIgLyBOT04tTkVHTElHRU5UIE1BTlNMQVVHSFRFUiAoVk9MVU5UQVJZKSAgICAgICAgICAgICAiXSwieWVhciI6WzIwMjAuOTcsMjAyMV19&location=42.348386%2C-83.007003%2C10.62&showTable=true\")\n",
        "wait = WebDriverWait(driver, 60)"
      ],
      "metadata": {
        "id": "CzJXCw2ZtX47"
      },
      "execution_count": null,
      "outputs": []
    },
    {
      "cell_type": "code",
      "source": [
        "#ARCGIS Authetication \n",
        "print(\"ArcGIS Online as anonymous user\")    \n",
        "gis = GIS()\n",
        "print(\"Logged in as anonymous user to \" + gis.properties.portalName)\n",
        "\n",
        "sleep(20)"
      ],
      "metadata": {
        "id": "37RJVfhTtY-Y"
      },
      "execution_count": null,
      "outputs": []
    },
    {
      "cell_type": "code",
      "source": [
        "#Button to begin download options\n",
        "wait.until(EC.element_to_be_clickable((By.CSS_SELECTOR, '#ember111'))).click()\n",
        "driver.execute_script('document.querySelector(\"div > button:nth-child(4)\").click()')\n",
        "\n",
        "print(\"Download option initiated\")\n",
        "\n",
        "sleep(20)"
      ],
      "metadata": {
        "id": "gGv_b4Lb5cOR"
      },
      "execution_count": null,
      "outputs": []
    },
    {
      "cell_type": "code",
      "source": [
        "#Button to toggle filter\n",
        "wait.until(EC.element_to_be_clickable((By.CSS_SELECTOR, '#ember44'))).click()\n",
        "driver.execute_script('document.querySelector(\"div > div > div:nth-child(1) > div > div > div.dataset-filter-toggle > div > calcite-switch\").click()')\n",
        "\n",
        "print(\"Toggle initiated\")\n",
        "\n",
        "sleep(60)"
      ],
      "metadata": {
        "id": "2OuY3-rmt-hs"
      },
      "execution_count": null,
      "outputs": []
    },
    {
      "cell_type": "code",
      "source": [
        "#Button to download csv\n",
        "wait.until(EC.element_to_be_clickable((By.CSS_SELECTOR, '#ember44'))).click()\n",
        "wait.until(EC.element_to_be_clickable((By.CSS_SELECTOR, \"div > div > div:nth-child(1) > div > div > div:nth-child(6) > hub-download-card\")))\n",
        "driver.execute_script('document.querySelector(\"div > div > div:nth-child(6) > hub-download-card\").shadowRoot.querySelector(\"calcite-card > div > calcite-dropdown > calcite-button\").click()')\n",
        "\n",
        "print(\"Downloading csv\")\n",
        "\n",
        "sleep(60)"
      ],
      "metadata": {
        "id": "Weo541nKuAZl"
      },
      "execution_count": null,
      "outputs": []
    },
    {
      "cell_type": "code",
      "source": [
        "#Button to select new data for download\n",
        "wait.until(EC.element_to_be_clickable((By.CSS_SELECTOR, '#ember44'))).click()\n",
        "wait.until(EC.element_to_be_clickable((By.CSS_SELECTOR, \"div > div > div:nth-child(1) > div > div > div:nth-child(6) > hub-download-card\")))\n",
        "driver.execute_script('document.querySelector(\"div > div > div:nth-child(6) > hub-download-card\").shadowRoot.querySelector(\"calcite-card > div > calcite-dropdown > calcite-dropdown-group > calcite-dropdown-item:nth-child(1)\").shadowRoot.querySelector(\"div\").click()')\n",
        "\n",
        "print(\"Generate new download with latest data\")\n",
        "\n",
        "sleep(120)"
      ],
      "metadata": {
        "id": "FORv9zRYxdj1"
      },
      "execution_count": null,
      "outputs": []
    },
    {
      "cell_type": "code",
      "source": [
        "#Close browser window when complete\n",
        "driver.close()                                "
      ],
      "metadata": {
        "id": "qi32SUB6xheu"
      },
      "execution_count": null,
      "outputs": []
    },
    {
      "cell_type": "code",
      "source": [
        "## FOR PDF CONVERSIONS ##\n",
        "\n",
        "# Copy into working directory\n",
        "!cp /content/gdrive/MyDrive/ColabNotebooks/HSSP_DetroitMI.ipynb ./\n",
        "\n",
        "# Convert to PDF\n",
        "!jupyter nbconvert --to PDF \"HSSP_DetroitMI.ipynb\" "
      ],
      "metadata": {
        "id": "kwpiECmQ_G9x"
      },
      "execution_count": null,
      "outputs": []
    }
  ]
}