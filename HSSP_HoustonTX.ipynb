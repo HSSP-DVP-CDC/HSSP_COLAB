{
  "nbformat": 4,
  "nbformat_minor": 0,
  "metadata": {
    "colab": {
      "name": "HSSP_HoustonTX.ipynb",
      "provenance": [],
      "collapsed_sections": [],
      "include_colab_link": true
    },
    "kernelspec": {
      "name": "python3",
      "display_name": "Python 3"
    },
    "language_info": {
      "name": "python"
    }
  },
  "cells": [
    {
      "cell_type": "markdown",
      "metadata": {
        "id": "view-in-github",
        "colab_type": "text"
      },
      "source": [
        "<a href=\"https://colab.research.google.com/github/HSSP-DVP-CDC/HSSP_COLAB/blob/main/HSSP_HoustonTX.ipynb\" target=\"_parent\"><img src=\"https://colab.research.google.com/assets/colab-badge.svg\" alt=\"Open In Colab\"/></a>"
      ]
    },
    {
      "cell_type": "code",
      "execution_count": null,
      "metadata": {
        "id": "FZ1akw_LFUlR"
      },
      "outputs": [],
      "source": [
        "#Houston, Texas"
      ]
    },
    {
      "cell_type": "code",
      "source": [
        "# For PDF conversion\n",
        "!apt-get install texlive texlive-xetex texlive-latex-extra pandoc\n",
        "!pip install pypandoc"
      ],
      "metadata": {
        "id": "9j19BzSu-zzz"
      },
      "execution_count": null,
      "outputs": []
    },
    {
      "cell_type": "code",
      "source": [
        "#Install Selenium and chrome webdriver\n",
        "!pip install selenium\n",
        "!apt-get update \n",
        "!apt install chromium-chromedriver"
      ],
      "metadata": {
        "id": "tyXUAAcTFhMH"
      },
      "execution_count": null,
      "outputs": []
    },
    {
      "cell_type": "code",
      "source": [
        "#Import Google Drive\n",
        "#USERNAME: ------@gmail.com\n",
        "#PASSWORD: ------\n",
        "from google.colab import drive\n",
        "drive.mount('/content/gdrive')"
      ],
      "metadata": {
        "id": "h4bRSEd1aKol"
      },
      "execution_count": null,
      "outputs": []
    },
    {
      "cell_type": "code",
      "source": [
        "#Import selenium libraries and chrome driver\n",
        "from selenium import webdriver\n",
        "from selenium.webdriver.common.by import By\n",
        "from selenium.webdriver.chrome.options import Options\n",
        "import sys\n",
        "sys.path.insert(0,'/usr/lib/chromium-browser/chromedriver')\n",
        "\n",
        "#Import time and pandas\n",
        "import time \n",
        "from time import sleep\n",
        "import pandas as pd"
      ],
      "metadata": {
        "id": "oWALjaygFhym"
      },
      "execution_count": null,
      "outputs": []
    },
    {
      "cell_type": "code",
      "source": [
        "#Set Chrome Options\n",
        "options = Options()\n",
        "options.add_argument('--headless')\n",
        "options.add_argument('--no-sandbox')\n",
        "options.add_argument('--disable-dev-shm-usage')\n",
        "prefs = {\"download.default_directory\":\"/content/gdrive/MyDrive/HSSP/HoustonTX\"}\n",
        "options.add_experimental_option('prefs', prefs)"
      ],
      "metadata": {
        "id": "5f9Z-Q37Fmph"
      },
      "execution_count": null,
      "outputs": []
    },
    {
      "cell_type": "code",
      "source": [
        "#Set Chrome Driver \n",
        "driver = webdriver.Chrome('chromedriver', chrome_options=options)\n",
        "driver.implicitly_wait(10)"
      ],
      "metadata": {
        "id": "EbKd17tLFprR"
      },
      "execution_count": null,
      "outputs": []
    },
    {
      "cell_type": "code",
      "source": [
        "#Fetch webpage data\n",
        "driver.get(\"https://www.houstontx.gov/police/cs/Monthly_Crime_Data_by_Street_and_Police_Beat.htm\")"
      ],
      "metadata": {
        "id": "zZgF9PbRFzEb"
      },
      "execution_count": null,
      "outputs": []
    },
    {
      "cell_type": "code",
      "source": [
        "dwnload = driver.find_element(By.XPATH, \"//*[@id='main']/div[1]/div[3]/div[1]/p[2]/a\")\n",
        "dwnload.click()\n",
        "\n",
        "sleep(180)\n",
        "print(\"Sleep complete\")"
      ],
      "metadata": {
        "id": "OJdRDgxeF3Gm"
      },
      "execution_count": null,
      "outputs": []
    },
    {
      "cell_type": "code",
      "source": [
        "#Close browser window when complete\n",
        "driver.close()\n",
        "print(\"Driver closed\")"
      ],
      "metadata": {
        "id": "QscKUa9BF4Im"
      },
      "execution_count": null,
      "outputs": []
    },
    {
      "cell_type": "code",
      "source": [
        "#Convert the file from excel to csv\n",
        "read_file = pd.read_excel('/content/gdrive/MyDrive/HSSP/HoustonTX/NIBRSPublicViewDec21.xlsx')\n",
        "read_file.to_csv(\"/content/gdrive/MyDrive/HSSP/HoustonTX/NIBRSPublicViewDec21.xlsx\")\n",
        "\n",
        "#Print the file\n",
        "df = pd.read_csv(\"/content/gdrive/MyDrive/HSSP/HoustonTX/NIBRSPublicViewDec21.xlsx\")\n",
        "# print(df)"
      ],
      "metadata": {
        "id": "FLEBzYjkF7Ag"
      },
      "execution_count": null,
      "outputs": []
    },
    {
      "cell_type": "code",
      "source": [
        "# Sort the data\n",
        "sorted_df = df.sort_values(by=[\"RMSOccurrenceDate\"], ascending=False)\n",
        "\n",
        "#Create new dataframe\n",
        "sorted_df.to_csv('/content/gdrive/MyDrive/HSSP/HoustonTX/texas_homicide_sorted.csv', index=False)\n",
        "\n",
        "df = pd.read_csv(\"/content/gdrive/MyDrive/HSSP/HoustonTX/texas_homicide_sorted.csv\")\n",
        "# print(df)"
      ],
      "metadata": {
        "id": "1Hf83g9yyGfD"
      },
      "execution_count": null,
      "outputs": []
    },
    {
      "cell_type": "code",
      "source": [
        "#Grab only values that are '09A' or 'Murder'\n",
        "contain_values = df[df['NIBRSClass'].str.contains('09A')]\n",
        "# print(contain_values)\n",
        "\n",
        "#Create new dataframe\n",
        "contain_values.to_csv('/content/gdrive/MyDrive/HSSP/HoustonTX/texas_homicide_09A.csv', index=False)\n",
        "\n",
        "df = pd.read_csv(\"/content/gdrive/MyDrive/HSSP/HoustonTX/texas_homicide_09A.csv\")\n",
        "print(df)"
      ],
      "metadata": {
        "id": "HEZflhGb50km"
      },
      "execution_count": null,
      "outputs": []
    },
    {
      "cell_type": "code",
      "source": [
        "## FOR PDF CONVERSIONS ##\n",
        "\n",
        "# Copy into working directory\n",
        "!cp /content/gdrive/MyDrive/ColabNotebooks/HSSP_HoustonTX.ipynb ./\n",
        "\n",
        "# Convert to PDF\n",
        "!jupyter nbconvert --to PDF \"HSSP_HoustonTX.ipynb\" "
      ],
      "metadata": {
        "id": "BiMZfUqD_F1h"
      },
      "execution_count": null,
      "outputs": []
    }
  ]
}