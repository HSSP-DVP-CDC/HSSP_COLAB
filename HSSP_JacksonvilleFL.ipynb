{
  "nbformat": 4,
  "nbformat_minor": 0,
  "metadata": {
    "colab": {
      "name": "HSSP_JacksonvilleFL.ipynb",
      "provenance": [],
      "collapsed_sections": [],
      "include_colab_link": true
    },
    "kernelspec": {
      "name": "python3",
      "display_name": "Python 3"
    },
    "language_info": {
      "name": "python"
    }
  },
  "cells": [
    {
      "cell_type": "markdown",
      "metadata": {
        "id": "view-in-github",
        "colab_type": "text"
      },
      "source": [
        "<a href=\"https://colab.research.google.com/github/HSSP-DVP-CDC/HSSP_COLAB/blob/main/HSSP_JacksonvilleFL.ipynb\" target=\"_parent\"><img src=\"https://colab.research.google.com/assets/colab-badge.svg\" alt=\"Open In Colab\"/></a>"
      ]
    },
    {
      "cell_type": "code",
      "execution_count": null,
      "metadata": {
        "id": "_OFg_ZZ79RVm"
      },
      "outputs": [],
      "source": [
        "#Jacksonville, Florida\n",
        "#Murder Data"
      ]
    },
    {
      "cell_type": "code",
      "source": [
        "# For PDF conversion\n",
        "!apt-get install texlive texlive-xetex texlive-latex-extra pandoc\n",
        "!pip install pypandoc"
      ],
      "metadata": {
        "id": "jRArWJBc-ned"
      },
      "execution_count": null,
      "outputs": []
    },
    {
      "cell_type": "code",
      "source": [
        "#Install Selenium and chrome webdriver\n",
        "!pip install selenium\n",
        "!apt-get update \n",
        "!apt install chromium-chromedriver"
      ],
      "metadata": {
        "id": "ItSuejyq9WOf"
      },
      "execution_count": null,
      "outputs": []
    },
    {
      "cell_type": "code",
      "source": [
        "#Import Google Drive\n",
        "#USERNAME: ------@gmail.com\n",
        "#PASSWORD: ------\n",
        "from google.colab import drive\n",
        "drive.mount('/content/gdrive')"
      ],
      "metadata": {
        "id": "wseCbyQs-t5T"
      },
      "execution_count": null,
      "outputs": []
    },
    {
      "cell_type": "code",
      "source": [
        "#Import selenium libraries and chrome driver\n",
        "from selenium import webdriver\n",
        "from selenium.webdriver.common.by import By\n",
        "from selenium.webdriver.chrome.options import Options\n",
        "import sys\n",
        "sys.path.insert(0,'/usr/lib/chromium-browser/chromedriver')\n",
        "\n",
        "#Import time and pandas\n",
        "import time \n",
        "from time import sleep\n",
        "import pandas as pd"
      ],
      "metadata": {
        "id": "jk35sWk29W5g"
      },
      "execution_count": null,
      "outputs": []
    },
    {
      "cell_type": "code",
      "source": [
        "#Set Chrome Options\n",
        "options = Options()\n",
        "options.add_argument('--headless')\n",
        "options.add_argument('--no-sandbox')\n",
        "options.add_argument('--disable-dev-shm-usage')\n",
        "prefs = {\"download.default_directory\":\"/content/gdrive/MyDrive/HSSP/JacksonvilleFL\"}\n",
        "options.add_experimental_option('prefs', prefs)"
      ],
      "metadata": {
        "id": "_fkDnweV9Y5n"
      },
      "execution_count": null,
      "outputs": []
    },
    {
      "cell_type": "code",
      "source": [
        "#Set Chrome Driver \n",
        "driver = webdriver.Chrome('chromedriver', chrome_options=options)\n",
        "driver.implicitly_wait(10)"
      ],
      "metadata": {
        "id": "bFhdxk999bk_"
      },
      "execution_count": null,
      "outputs": []
    },
    {
      "cell_type": "code",
      "source": [
        "#Fetch webpage data\n",
        "driver.get(\"https://transparency.jaxsheriff.org/HOTS/Murder\")"
      ],
      "metadata": {
        "id": "ukBAPZdp9gM5"
      },
      "execution_count": null,
      "outputs": []
    },
    {
      "cell_type": "code",
      "source": [
        "dwnload = driver.find_element(By.XPATH, \"//*[@id='M_C_MainContent_MainContent_ecExport_hlExport']\")\n",
        "dwnload.click()"
      ],
      "metadata": {
        "id": "GQ4JEvyy9hA0"
      },
      "execution_count": null,
      "outputs": []
    },
    {
      "cell_type": "code",
      "source": [
        "# Pause 10 seconds to allow CSV to download\n",
        "sleep(10)"
      ],
      "metadata": {
        "id": "PnNM5jwJ9hKh"
      },
      "execution_count": null,
      "outputs": []
    },
    {
      "cell_type": "code",
      "source": [
        "# Read the csv into the console\n",
        "df = pd.read_csv(\"/content/gdrive/MyDrive/HSSP/JacksonvilleFL/Exported Data.csv\")\n",
        "# print(df)"
      ],
      "metadata": {
        "id": "K3Gi2CyZ9ner"
      },
      "execution_count": null,
      "outputs": []
    },
    {
      "cell_type": "code",
      "source": [
        "# 2022 \n",
        "#Grab only values that are '09A' or 'Murder' for 2022\n",
        "contains_values = df[df['IncidentDate'].str.contains('2022')]\n",
        "# print(contains_values)\n",
        "\n",
        "#Create new dataframe\n",
        "contains_values.to_csv('/content/gdrive/MyDrive/HSSP/JacksonvilleFL/jacksonville_homicide_2022.csv', index=False)\n",
        "\n",
        "df = pd.read_csv(\"/content/gdrive/MyDrive/HSSP/JacksonvilleFL/jacksonville_homicide_2022.csv\")\n",
        "print(df)"
      ],
      "metadata": {
        "id": "V9g736xXXw4b"
      },
      "execution_count": null,
      "outputs": []
    },
    {
      "cell_type": "code",
      "source": [
        "print(\"Program complete\")"
      ],
      "metadata": {
        "id": "3G3BdTJhYX60"
      },
      "execution_count": null,
      "outputs": []
    },
    {
      "cell_type": "code",
      "source": [
        "## FOR PDF CONVERSIONS ##\n",
        "\n",
        "# Copy into working directory\n",
        "!cp /content/gdrive/MyDrive/ColabNotebooks/HSSP_JacksonvilleFL.ipynb ./\n",
        "\n",
        "# Convert to PDF\n",
        "!jupyter nbconvert --to PDF \"HSSP_JacksonvilleFL.ipynb\" "
      ],
      "metadata": {
        "id": "DxfhYS5X-h3B"
      },
      "execution_count": null,
      "outputs": []
    }
  ]
}