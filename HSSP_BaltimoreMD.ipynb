{
  "nbformat": 4,
  "nbformat_minor": 0,
  "metadata": {
    "colab": {
      "name": "HSSP_BaltimoreMD.ipynb",
      "provenance": [],
      "collapsed_sections": [],
      "include_colab_link": true
    },
    "kernelspec": {
      "name": "python3",
      "display_name": "Python 3"
    },
    "language_info": {
      "name": "python"
    }
  },
  "cells": [
    {
      "cell_type": "markdown",
      "metadata": {
        "id": "view-in-github",
        "colab_type": "text"
      },
      "source": [
        "<a href=\"https://colab.research.google.com/github/HSSP-DVP-CDC/HSSP_COLAB/blob/main/HSSP_BaltimoreMD.ipynb\" target=\"_parent\"><img src=\"https://colab.research.google.com/assets/colab-badge.svg\" alt=\"Open In Colab\"/></a>"
      ]
    },
    {
      "cell_type": "code",
      "execution_count": null,
      "metadata": {
        "id": "fdhvt61o80Uf"
      },
      "outputs": [],
      "source": [
        "#Baltimore, Maryland\n",
        "#Requires a pip install <arcgis> API to address login credentials during automated testing\n",
        "#Source: https://developers.arcgis.com/python/guide/working-with-different-authentication-schemes/\n",
        "#Helpful StackOverflow about working with shadowroots: https://stackoverflow.com/questions/68909696/clicking-side-panel-elements-in-selenium-without-iframes\n"
      ]
    },
    {
      "cell_type": "code",
      "source": [
        "#THIS IS NOT WORKING CODE AT THIS TIME WITHIN GOOGLE COLAB \n",
        "#THERE IS A SERVER ISSUE THAT WILL NOT LOAD A DYNAMIC PAGE - CODE WORKS WHEN RUN ON A LOCAL MACHINE \n",
        "#DOES NOT LOAD WHEN IT IS IN '---HEADLESS' MODE"
      ],
      "metadata": {
        "id": "77sdFAt_-dMq"
      },
      "execution_count": null,
      "outputs": []
    },
    {
      "cell_type": "code",
      "source": [
        "# For PDF conversion\n",
        "!apt-get install texlive texlive-xetex texlive-latex-extra pandoc\n",
        "!pip install pypandoc"
      ],
      "metadata": {
        "id": "6hvUGXJ7-27-"
      },
      "execution_count": null,
      "outputs": []
    },
    {
      "cell_type": "code",
      "source": [
        "#Install Selenium and chrome webdriver\n",
        "!pip install selenium\n",
        "!apt-get update \n",
        "!apt install chromium-chromedriver\n",
        "!pip install arcgis\n",
        "!pip install --upgrade arcgis\n",
        "!pip install tornado==4.5.2"
      ],
      "metadata": {
        "id": "aZs8VMCqSWz3"
      },
      "execution_count": null,
      "outputs": []
    },
    {
      "cell_type": "code",
      "source": [
        "#Import libraries\n",
        "from selenium import webdriver\n",
        "from selenium.webdriver.common.by import By\n",
        "from selenium.webdriver.chrome.options import Options\n",
        "from selenium.webdriver.support import expected_conditions as EC\n",
        "from selenium.webdriver.support.ui import Select\n",
        "from selenium.webdriver.support.ui import WebDriverWait\n",
        "import sys\n",
        "sys.path.insert(0,'/usr/lib/chromium-browser/chromedriver')\n"
      ],
      "metadata": {
        "id": "Vp5wqLlOQzHo"
      },
      "execution_count": null,
      "outputs": []
    },
    {
      "cell_type": "code",
      "source": [
        "#Import Google Drive\n",
        "#USERNAME: ------@gmail.com\n",
        "#PASSWORD: ------\n",
        "from google.colab import drive\n",
        "drive.mount('/content/gdrive')"
      ],
      "metadata": {
        "id": "qQfxgQMqXzXl"
      },
      "execution_count": null,
      "outputs": []
    },
    {
      "cell_type": "code",
      "source": [
        "#Import time, sleep, pandas, arcgis\n",
        "import time \n",
        "from time import sleep\n",
        "import pandas as pd\n",
        "import arcgis\n",
        "from arcgis.gis import GIS"
      ],
      "metadata": {
        "id": "6v0aZajkTPRp"
      },
      "execution_count": null,
      "outputs": []
    },
    {
      "cell_type": "code",
      "source": [
        "#Set Chrome Options\n",
        "options = Options()\n",
        "options.add_argument('--headless')\n",
        "options.add_argument('--no-sandbox')\n",
        "options.add_argument('--disable-dev-shm-usage')\n",
        "prefs = {\"download.default_directory\":\"/content/gdrive/MyDrive/HSSP/BaltimoreMD\"}\n",
        "options.add_experimental_option('prefs', prefs)\n",
        "options.add_experimental_option('excludeSwitches', ['enable-logging'])"
      ],
      "metadata": {
        "id": "cFWoz6w8ROuZ"
      },
      "execution_count": null,
      "outputs": []
    },
    {
      "cell_type": "code",
      "source": [
        "#Set Chrome Driver \n",
        "driver = webdriver.Chrome('chromedriver', chrome_options=options)\n",
        "driver.implicitly_wait(10)"
      ],
      "metadata": {
        "id": "tgnsZPOhRPgj"
      },
      "execution_count": null,
      "outputs": []
    },
    {
      "cell_type": "code",
      "source": [
        "#Fetch webpage data (already filtered by 'Homicide/Non-Negligent Murder')\n",
        "driver.get(\"https://data.baltimorecity.gov/datasets/part1-crime-data/explore?filters=eyJEZXNjcmlwdGlvbiI6WyJIT01JQ0lERSJdfQ%3D%3D&location=39.293315%2C-76.603608%2C14.00&showTable=true\")\n",
        "wait = WebDriverWait(driver, 60)"
      ],
      "metadata": {
        "id": "l80W95bKRy4I"
      },
      "execution_count": null,
      "outputs": []
    },
    {
      "cell_type": "code",
      "source": [
        "#ARCGIS Authetication \n",
        "print(\"ArcGIS Online as anonymous user\")    \n",
        "gis = GIS()\n",
        "print(\"Logged in as anonymous user to \" + gis.properties.portalName)\n",
        "\n",
        "sleep(20)"
      ],
      "metadata": {
        "id": "CkptRLRmR25m"
      },
      "execution_count": null,
      "outputs": []
    },
    {
      "cell_type": "code",
      "source": [
        "#Button to begin download options\n",
        "wait.until(EC.element_to_be_clickable((By.CSS_SELECTOR, '#ember102'))).click()\n",
        "driver.execute_script('document.querySelector(\"div > button:nth-child(4)\").click()')\n",
        "\n",
        "print(\"Download option initiated\")\n",
        "\n",
        "sleep(20)"
      ],
      "metadata": {
        "id": "2JWHFbCrR6jm"
      },
      "execution_count": null,
      "outputs": []
    },
    {
      "cell_type": "code",
      "source": [
        "# THIS IS WHERE THE CODE BREAKS\n",
        "# I'VE INCLUDED 8 TESTS THAT I'VE RUN THUS FAR BEFORE TO GET THIS WORKING BELOW"
      ],
      "metadata": {
        "id": "XjapowXeJXzJ"
      },
      "execution_count": null,
      "outputs": []
    },
    {
      "cell_type": "code",
      "execution_count": null,
      "metadata": {
        "id": "ECJUvshF254o"
      },
      "outputs": [],
      "source": [
        "# TEST 0 FAIL\n",
        "# Button to toggle filter\n",
        "wait.until(EC.element_to_be_clickable((By.CSS_SELECTOR, '#ember47'))).click()\n",
        "driver.execute_script('document.querySelector(\"div > div > div:nth-child(1) > div > div > div.dataset-filter-toggle > div > calcite-switch\").click()')\n",
        "\n",
        "print(\"Toggle\")\n",
        "\n",
        "sleep(20)\n",
        "\n",
        "# TEST 1 FAIL\n",
        "# Button to toggle filter\n",
        "# togglebtn = wait.until(EC.element_to_be_clickable((By.CSS_SELECTOR, '#ember47 > div > div > div:nth-child(1) > div > div > div.dataset-filter-toggle > div > calcite-switch'))).click()\n",
        "togglebtn = driver.find_element(By.CSS_SELECTOR, '#ember47 > div > div > div:nth-child(1) > div > div > div.dataset-filter-toggle > div > calcite-switch').click()\n",
        "driver.execute_script(\"arguments[0].click();\", togglebtn)\n",
        "\n",
        "print(\"Toggle initiated\")\n",
        "\n",
        "sleep(15)\n",
        "\n",
        "# #ember47 > div > div > div:nth-child(1) > div > div > div.dataset-filter-toggle > div > calcite-switch\n",
        "\n",
        "# TEST 2 FAIL\n",
        "# Button to toggle filter\n",
        "wait.until(EC.element_to_be_clickable((By.CSS_SELECTOR, '#ember47'))).click()\n",
        "driver.execute_script('document.querySelector(\"div > div > div:nth-child(1) > div > div > div.dataset-filter-toggle > div > calcite-switch\").shadowRoot.querySelector(\"div > div > div\").click()')\n",
        "\n",
        "print(\"Toggle initiated\")\n",
        "\n",
        "sleep(15)\n",
        "\n",
        "# input ID\n",
        "#calcite-switch-175c663a-6972-6054-d630-2a5b3885e78b-input\n",
        "# #ember47 > div > div > div:nth-child(1) > div > div > div.dataset-filter-toggle > div > calcite-switch\n",
        "# div > div > div\n",
        "\n",
        "# TEST 3 FAIL\n",
        "# Button to toggle filter\n",
        "wait.until(EC.element_to_be_clickable((By.CSS_SELECTOR, '#ember47'))).click()\n",
        "driver.execute_script('document.querySelector(\"div > div > div:nth-child(1) > div > div > div.dataset-filter-toggle > div > calcite-switch\").click()')\n",
        "\n",
        "print(\"Toggle initiated\")\n",
        "\n",
        "sleep(15)\n",
        "\n",
        "# input ID\n",
        "#calcite-switch-175c663a-6972-6054-d630-2a5b3885e78b-input\n",
        "\n",
        "# Test 4 FAIL\n",
        "# Button to toggle filter\n",
        "wait.until(EC.element_to_be_clickable((By.CSS_SELECTOR, '#ember47'))).send_keys(Keys.RETURN)\n",
        "driver.execute_script('document.querySelector(\"div > div > div:nth-child(1) > div > div > div.dataset-filter-toggle > div > calcite-switch\").click()')\n",
        "\n",
        "print(\"Toggle initiated\")\n",
        "\n",
        "sleep(15)\n",
        "\n",
        "#TEST 6 FAIL\n",
        "# Button to toggle filter\n",
        "wait.until(EC.element_to_be_clickable((By.CSS_SELECTOR, '#ember47'))).click()\n",
        "driver.execute_script('document.querySelector(\"> div > div > div:nth-child(1) > div > div > div.dataset-filter-toggle > div\").click()')\n",
        "\n",
        "print(\"Toggle initiated\")\n",
        "\n",
        "sleep(15) \n",
        "#ember47 > div > div > div:nth-child(1) > div > div > div.dataset-filter-toggle > div\n",
        "\n",
        "# TEST 7 FAIL\n",
        "toggle = driver.find_element(By.XPATH, \"/html/body/div[6]/div[2]/div/div[1]/div[1]/div/div/div[1]/div/div/div[2]/div/calcite-switch\")\n",
        "toggle.click()\n",
        "print(\"Toggle initiated\")\n",
        "\n",
        "sleep(15)"
      ]
    },
    {
      "cell_type": "code",
      "source": [
        "#Button to toggle filter\n",
        "wait.until(EC.element_to_be_clickable((By.CSS_SELECTOR, '#ember47'))).click()\n",
        "driver.execute_script('document.querySelector(\"div > div > div:nth-child(1) > div > div > div.dataset-filter-toggle > div > calcite-switch\").click()')\n",
        "\n",
        "print(\"Toggle initiated\")\n",
        "\n",
        "sleep(15)"
      ],
      "metadata": {
        "id": "4dyfJ16OR-wq"
      },
      "execution_count": null,
      "outputs": []
    },
    {
      "cell_type": "code",
      "source": [
        "#Button to download csv\n",
        "wait.until(EC.element_to_be_clickable((By.CSS_SELECTOR, '#ember47'))).click()\n",
        "wait.until(EC.element_to_be_clickable((By.CSS_SELECTOR, \"div > div > div:nth-child(1) > div > div > div:nth-child(6) > hub-download-card\")))\n",
        "driver.execute_script('document.querySelector(\"div > div > div:nth-child(6) > hub-download-card\").shadowRoot.querySelector(\"calcite-card > div > calcite-dropdown > calcite-button\").click()')\n",
        "print(\"Downloading csv\")\n",
        "\n",
        "sleep(15)"
      ],
      "metadata": {
        "id": "L09bAYeKSBkz"
      },
      "execution_count": null,
      "outputs": []
    },
    {
      "cell_type": "code",
      "source": [
        "#Button to select new data for download\n",
        "wait.until(EC.element_to_be_clickable((By.CSS_SELECTOR, '#ember47'))).click()\n",
        "wait.until(EC.element_to_be_clickable((By.CSS_SELECTOR, \"div > div > div:nth-child(1) > div > div > div:nth-child(6) > hub-download-card\")))\n",
        "driver.execute_script('document.querySelector(\"div > div > div:nth-child(6) > hub-download-card\").shadowRoot.querySelector(\"calcite-card > div > calcite-dropdown > calcite-dropdown-group > calcite-dropdown-item:nth-child(1)\").shadowRoot.querySelector(\"div\").click()')\n",
        "print(\"Generate new download with latest data\")\n",
        "\n",
        "sleep(120)\n",
        "print(\"Sleep Complete\")"
      ],
      "metadata": {
        "id": "N0drwvY5SFCF"
      },
      "execution_count": null,
      "outputs": []
    },
    {
      "cell_type": "code",
      "source": [
        "#Close browser window when complete\n",
        "driver.close()  \n",
        "print(\"Driver closed\")"
      ],
      "metadata": {
        "id": "1OBuyM0SSIHX"
      },
      "execution_count": null,
      "outputs": []
    },
    {
      "cell_type": "code",
      "source": [
        "## FOR PDF CONVERSIONS ##\n",
        "\n",
        "# Copy into working directory\n",
        "!cp /content/gdrive/MyDrive/ColabNotebooks/HSSP_BaltimoreMD.ipynb ./\n",
        "\n",
        "# Convert to PDF\n",
        "!jupyter nbconvert --to PDF \"HSSP_BaltimoreMD.ipynb\" "
      ],
      "metadata": {
        "id": "x8lYnuVL_H7e"
      },
      "execution_count": null,
      "outputs": []
    }
  ]
}