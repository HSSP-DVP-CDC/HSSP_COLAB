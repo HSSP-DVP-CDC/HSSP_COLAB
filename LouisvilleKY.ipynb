{
  "nbformat": 4,
  "nbformat_minor": 0,
  "metadata": {
    "colab": {
      "name": "LouisvilleKY.ipynb",
      "provenance": [],
      "collapsed_sections": [],
      "authorship_tag": "ABX9TyNFe4ZMi5AGo/CndliCoYNH",
      "include_colab_link": true
    },
    "kernelspec": {
      "name": "python3",
      "display_name": "Python 3"
    },
    "language_info": {
      "name": "python"
    }
  },
  "cells": [
    {
      "cell_type": "markdown",
      "metadata": {
        "id": "view-in-github",
        "colab_type": "text"
      },
      "source": [
        "<a href=\"https://colab.research.google.com/github/HSSP-DVP-CDC/HSSP_COLAB/blob/main/LouisvilleKY.ipynb\" target=\"_parent\"><img src=\"https://colab.research.google.com/assets/colab-badge.svg\" alt=\"Open In Colab\"/></a>"
      ]
    },
    {
      "cell_type": "code",
      "execution_count": null,
      "metadata": {
        "id": "LEUL5TsCBijY"
      },
      "outputs": [],
      "source": [
        "#Louisville, Kentucky"
      ]
    },
    {
      "cell_type": "code",
      "source": [
        "#Install Selenium and chrome webdriver\n",
        "!pip install selenium\n",
        "!apt-get update \n",
        "!apt install chromium-chromedriver"
      ],
      "metadata": {
        "colab": {
          "base_uri": "https://localhost:8080/"
        },
        "id": "AstUKtIHMR26",
        "outputId": "a7c568be-8e98-4f62-8a8d-89d55e2717e8"
      },
      "execution_count": 1,
      "outputs": [
        {
          "output_type": "stream",
          "name": "stdout",
          "text": [
            "Collecting selenium\n",
            "  Downloading selenium-4.1.0-py3-none-any.whl (958 kB)\n",
            "\u001b[?25l\r\u001b[K     |▍                               | 10 kB 15.6 MB/s eta 0:00:01\r\u001b[K     |▊                               | 20 kB 18.6 MB/s eta 0:00:01\r\u001b[K     |█                               | 30 kB 21.0 MB/s eta 0:00:01\r\u001b[K     |█▍                              | 40 kB 16.2 MB/s eta 0:00:01\r\u001b[K     |█▊                              | 51 kB 6.6 MB/s eta 0:00:01\r\u001b[K     |██                              | 61 kB 6.9 MB/s eta 0:00:01\r\u001b[K     |██▍                             | 71 kB 5.5 MB/s eta 0:00:01\r\u001b[K     |██▊                             | 81 kB 6.0 MB/s eta 0:00:01\r\u001b[K     |███                             | 92 kB 6.2 MB/s eta 0:00:01\r\u001b[K     |███▍                            | 102 kB 5.6 MB/s eta 0:00:01\r\u001b[K     |███▊                            | 112 kB 5.6 MB/s eta 0:00:01\r\u001b[K     |████                            | 122 kB 5.6 MB/s eta 0:00:01\r\u001b[K     |████▍                           | 133 kB 5.6 MB/s eta 0:00:01\r\u001b[K     |████▉                           | 143 kB 5.6 MB/s eta 0:00:01\r\u001b[K     |█████▏                          | 153 kB 5.6 MB/s eta 0:00:01\r\u001b[K     |█████▌                          | 163 kB 5.6 MB/s eta 0:00:01\r\u001b[K     |█████▉                          | 174 kB 5.6 MB/s eta 0:00:01\r\u001b[K     |██████▏                         | 184 kB 5.6 MB/s eta 0:00:01\r\u001b[K     |██████▌                         | 194 kB 5.6 MB/s eta 0:00:01\r\u001b[K     |██████▉                         | 204 kB 5.6 MB/s eta 0:00:01\r\u001b[K     |███████▏                        | 215 kB 5.6 MB/s eta 0:00:01\r\u001b[K     |███████▌                        | 225 kB 5.6 MB/s eta 0:00:01\r\u001b[K     |███████▉                        | 235 kB 5.6 MB/s eta 0:00:01\r\u001b[K     |████████▏                       | 245 kB 5.6 MB/s eta 0:00:01\r\u001b[K     |████████▌                       | 256 kB 5.6 MB/s eta 0:00:01\r\u001b[K     |████████▉                       | 266 kB 5.6 MB/s eta 0:00:01\r\u001b[K     |█████████▎                      | 276 kB 5.6 MB/s eta 0:00:01\r\u001b[K     |█████████▋                      | 286 kB 5.6 MB/s eta 0:00:01\r\u001b[K     |██████████                      | 296 kB 5.6 MB/s eta 0:00:01\r\u001b[K     |██████████▎                     | 307 kB 5.6 MB/s eta 0:00:01\r\u001b[K     |██████████▋                     | 317 kB 5.6 MB/s eta 0:00:01\r\u001b[K     |███████████                     | 327 kB 5.6 MB/s eta 0:00:01\r\u001b[K     |███████████▎                    | 337 kB 5.6 MB/s eta 0:00:01\r\u001b[K     |███████████▋                    | 348 kB 5.6 MB/s eta 0:00:01\r\u001b[K     |████████████                    | 358 kB 5.6 MB/s eta 0:00:01\r\u001b[K     |████████████▎                   | 368 kB 5.6 MB/s eta 0:00:01\r\u001b[K     |████████████▋                   | 378 kB 5.6 MB/s eta 0:00:01\r\u001b[K     |█████████████                   | 389 kB 5.6 MB/s eta 0:00:01\r\u001b[K     |█████████████▎                  | 399 kB 5.6 MB/s eta 0:00:01\r\u001b[K     |█████████████▊                  | 409 kB 5.6 MB/s eta 0:00:01\r\u001b[K     |██████████████                  | 419 kB 5.6 MB/s eta 0:00:01\r\u001b[K     |██████████████▍                 | 430 kB 5.6 MB/s eta 0:00:01\r\u001b[K     |██████████████▊                 | 440 kB 5.6 MB/s eta 0:00:01\r\u001b[K     |███████████████                 | 450 kB 5.6 MB/s eta 0:00:01\r\u001b[K     |███████████████▍                | 460 kB 5.6 MB/s eta 0:00:01\r\u001b[K     |███████████████▊                | 471 kB 5.6 MB/s eta 0:00:01\r\u001b[K     |████████████████                | 481 kB 5.6 MB/s eta 0:00:01\r\u001b[K     |████████████████▍               | 491 kB 5.6 MB/s eta 0:00:01\r\u001b[K     |████████████████▊               | 501 kB 5.6 MB/s eta 0:00:01\r\u001b[K     |█████████████████               | 512 kB 5.6 MB/s eta 0:00:01\r\u001b[K     |█████████████████▍              | 522 kB 5.6 MB/s eta 0:00:01\r\u001b[K     |█████████████████▊              | 532 kB 5.6 MB/s eta 0:00:01\r\u001b[K     |██████████████████▏             | 542 kB 5.6 MB/s eta 0:00:01\r\u001b[K     |██████████████████▌             | 552 kB 5.6 MB/s eta 0:00:01\r\u001b[K     |██████████████████▉             | 563 kB 5.6 MB/s eta 0:00:01\r\u001b[K     |███████████████████▏            | 573 kB 5.6 MB/s eta 0:00:01\r\u001b[K     |███████████████████▌            | 583 kB 5.6 MB/s eta 0:00:01\r\u001b[K     |███████████████████▉            | 593 kB 5.6 MB/s eta 0:00:01\r\u001b[K     |████████████████████▏           | 604 kB 5.6 MB/s eta 0:00:01\r\u001b[K     |████████████████████▌           | 614 kB 5.6 MB/s eta 0:00:01\r\u001b[K     |████████████████████▉           | 624 kB 5.6 MB/s eta 0:00:01\r\u001b[K     |█████████████████████▏          | 634 kB 5.6 MB/s eta 0:00:01\r\u001b[K     |█████████████████████▌          | 645 kB 5.6 MB/s eta 0:00:01\r\u001b[K     |█████████████████████▉          | 655 kB 5.6 MB/s eta 0:00:01\r\u001b[K     |██████████████████████▏         | 665 kB 5.6 MB/s eta 0:00:01\r\u001b[K     |██████████████████████▋         | 675 kB 5.6 MB/s eta 0:00:01\r\u001b[K     |███████████████████████         | 686 kB 5.6 MB/s eta 0:00:01\r\u001b[K     |███████████████████████▎        | 696 kB 5.6 MB/s eta 0:00:01\r\u001b[K     |███████████████████████▋        | 706 kB 5.6 MB/s eta 0:00:01\r\u001b[K     |████████████████████████        | 716 kB 5.6 MB/s eta 0:00:01\r\u001b[K     |████████████████████████▎       | 727 kB 5.6 MB/s eta 0:00:01\r\u001b[K     |████████████████████████▋       | 737 kB 5.6 MB/s eta 0:00:01\r\u001b[K     |█████████████████████████       | 747 kB 5.6 MB/s eta 0:00:01\r\u001b[K     |█████████████████████████▎      | 757 kB 5.6 MB/s eta 0:00:01\r\u001b[K     |█████████████████████████▋      | 768 kB 5.6 MB/s eta 0:00:01\r\u001b[K     |██████████████████████████      | 778 kB 5.6 MB/s eta 0:00:01\r\u001b[K     |██████████████████████████▎     | 788 kB 5.6 MB/s eta 0:00:01\r\u001b[K     |██████████████████████████▋     | 798 kB 5.6 MB/s eta 0:00:01\r\u001b[K     |███████████████████████████     | 808 kB 5.6 MB/s eta 0:00:01\r\u001b[K     |███████████████████████████▍    | 819 kB 5.6 MB/s eta 0:00:01\r\u001b[K     |███████████████████████████▊    | 829 kB 5.6 MB/s eta 0:00:01\r\u001b[K     |████████████████████████████    | 839 kB 5.6 MB/s eta 0:00:01\r\u001b[K     |████████████████████████████▍   | 849 kB 5.6 MB/s eta 0:00:01\r\u001b[K     |████████████████████████████▊   | 860 kB 5.6 MB/s eta 0:00:01\r\u001b[K     |█████████████████████████████   | 870 kB 5.6 MB/s eta 0:00:01\r\u001b[K     |█████████████████████████████▍  | 880 kB 5.6 MB/s eta 0:00:01\r\u001b[K     |█████████████████████████████▊  | 890 kB 5.6 MB/s eta 0:00:01\r\u001b[K     |██████████████████████████████  | 901 kB 5.6 MB/s eta 0:00:01\r\u001b[K     |██████████████████████████████▍ | 911 kB 5.6 MB/s eta 0:00:01\r\u001b[K     |██████████████████████████████▊ | 921 kB 5.6 MB/s eta 0:00:01\r\u001b[K     |███████████████████████████████ | 931 kB 5.6 MB/s eta 0:00:01\r\u001b[K     |███████████████████████████████▍| 942 kB 5.6 MB/s eta 0:00:01\r\u001b[K     |███████████████████████████████▉| 952 kB 5.6 MB/s eta 0:00:01\r\u001b[K     |████████████████████████████████| 958 kB 5.6 MB/s \n",
            "\u001b[?25hCollecting trio-websocket~=0.9\n",
            "  Downloading trio_websocket-0.9.2-py3-none-any.whl (16 kB)\n",
            "Collecting urllib3[secure]~=1.26\n",
            "  Downloading urllib3-1.26.8-py2.py3-none-any.whl (138 kB)\n",
            "\u001b[K     |████████████████████████████████| 138 kB 35.2 MB/s \n",
            "\u001b[?25hCollecting trio~=0.17\n",
            "  Downloading trio-0.19.0-py3-none-any.whl (356 kB)\n",
            "\u001b[K     |████████████████████████████████| 356 kB 54.2 MB/s \n",
            "\u001b[?25hCollecting sniffio\n",
            "  Downloading sniffio-1.2.0-py3-none-any.whl (10 kB)\n",
            "Collecting async-generator>=1.9\n",
            "  Downloading async_generator-1.10-py3-none-any.whl (18 kB)\n",
            "Requirement already satisfied: attrs>=19.2.0 in /usr/local/lib/python3.7/dist-packages (from trio~=0.17->selenium) (21.4.0)\n",
            "Collecting outcome\n",
            "  Downloading outcome-1.1.0-py2.py3-none-any.whl (9.7 kB)\n",
            "Requirement already satisfied: sortedcontainers in /usr/local/lib/python3.7/dist-packages (from trio~=0.17->selenium) (2.4.0)\n",
            "Requirement already satisfied: idna in /usr/local/lib/python3.7/dist-packages (from trio~=0.17->selenium) (2.10)\n",
            "Collecting wsproto>=0.14\n",
            "  Downloading wsproto-1.0.0-py3-none-any.whl (24 kB)\n",
            "Collecting pyOpenSSL>=0.14\n",
            "  Downloading pyOpenSSL-21.0.0-py2.py3-none-any.whl (55 kB)\n",
            "\u001b[K     |████████████████████████████████| 55 kB 2.7 MB/s \n",
            "\u001b[?25hCollecting cryptography>=1.3.4\n",
            "  Downloading cryptography-36.0.1-cp36-abi3-manylinux_2_24_x86_64.whl (3.6 MB)\n",
            "\u001b[K     |████████████████████████████████| 3.6 MB 50.3 MB/s \n",
            "\u001b[?25hRequirement already satisfied: certifi in /usr/local/lib/python3.7/dist-packages (from urllib3[secure]~=1.26->selenium) (2021.10.8)\n",
            "Requirement already satisfied: cffi>=1.12 in /usr/local/lib/python3.7/dist-packages (from cryptography>=1.3.4->urllib3[secure]~=1.26->selenium) (1.15.0)\n",
            "Requirement already satisfied: pycparser in /usr/local/lib/python3.7/dist-packages (from cffi>=1.12->cryptography>=1.3.4->urllib3[secure]~=1.26->selenium) (2.21)\n",
            "Requirement already satisfied: six>=1.5.2 in /usr/local/lib/python3.7/dist-packages (from pyOpenSSL>=0.14->urllib3[secure]~=1.26->selenium) (1.15.0)\n",
            "Collecting h11<1,>=0.9.0\n",
            "  Downloading h11-0.12.0-py3-none-any.whl (54 kB)\n",
            "\u001b[K     |████████████████████████████████| 54 kB 2.8 MB/s \n",
            "\u001b[?25hInstalling collected packages: sniffio, outcome, h11, cryptography, async-generator, wsproto, urllib3, trio, pyOpenSSL, trio-websocket, selenium\n",
            "  Attempting uninstall: urllib3\n",
            "    Found existing installation: urllib3 1.24.3\n",
            "    Uninstalling urllib3-1.24.3:\n",
            "      Successfully uninstalled urllib3-1.24.3\n",
            "\u001b[31mERROR: pip's dependency resolver does not currently take into account all the packages that are installed. This behaviour is the source of the following dependency conflicts.\n",
            "requests 2.23.0 requires urllib3!=1.25.0,!=1.25.1,<1.26,>=1.21.1, but you have urllib3 1.26.8 which is incompatible.\n",
            "datascience 0.10.6 requires folium==0.2.1, but you have folium 0.8.3 which is incompatible.\u001b[0m\n",
            "Successfully installed async-generator-1.10 cryptography-36.0.1 h11-0.12.0 outcome-1.1.0 pyOpenSSL-21.0.0 selenium-4.1.0 sniffio-1.2.0 trio-0.19.0 trio-websocket-0.9.2 urllib3-1.26.8 wsproto-1.0.0\n",
            "Get:1 http://security.ubuntu.com/ubuntu bionic-security InRelease [88.7 kB]\n",
            "Get:2 https://cloud.r-project.org/bin/linux/ubuntu bionic-cran40/ InRelease [3,626 B]\n",
            "Ign:3 https://developer.download.nvidia.com/compute/cuda/repos/ubuntu1804/x86_64  InRelease\n",
            "Get:4 http://ppa.launchpad.net/c2d4u.team/c2d4u4.0+/ubuntu bionic InRelease [15.9 kB]\n",
            "Hit:5 http://archive.ubuntu.com/ubuntu bionic InRelease\n",
            "Ign:6 https://developer.download.nvidia.com/compute/machine-learning/repos/ubuntu1804/x86_64  InRelease\n",
            "Hit:7 https://developer.download.nvidia.com/compute/cuda/repos/ubuntu1804/x86_64  Release\n",
            "Hit:8 https://developer.download.nvidia.com/compute/machine-learning/repos/ubuntu1804/x86_64  Release\n",
            "Get:9 http://archive.ubuntu.com/ubuntu bionic-updates InRelease [88.7 kB]\n",
            "Hit:10 http://ppa.launchpad.net/cran/libgit2/ubuntu bionic InRelease\n",
            "Get:11 http://archive.ubuntu.com/ubuntu bionic-backports InRelease [74.6 kB]\n",
            "Hit:12 http://ppa.launchpad.net/deadsnakes/ppa/ubuntu bionic InRelease\n",
            "Get:13 http://security.ubuntu.com/ubuntu bionic-security/main amd64 Packages [2,492 kB]\n",
            "Hit:14 http://ppa.launchpad.net/graphics-drivers/ppa/ubuntu bionic InRelease\n",
            "Get:17 http://ppa.launchpad.net/c2d4u.team/c2d4u4.0+/ubuntu bionic/main Sources [1,822 kB]\n",
            "Get:18 http://archive.ubuntu.com/ubuntu bionic-updates/restricted amd64 Packages [758 kB]\n",
            "Get:19 http://ppa.launchpad.net/c2d4u.team/c2d4u4.0+/ubuntu bionic/main amd64 Packages [934 kB]\n",
            "Get:20 http://archive.ubuntu.com/ubuntu bionic-updates/main amd64 Packages [2,935 kB]\n",
            "Fetched 9,213 kB in 4s (2,500 kB/s)\n",
            "Reading package lists... Done\n",
            "Reading package lists... Done\n",
            "Building dependency tree       \n",
            "Reading state information... Done\n",
            "The following additional packages will be installed:\n",
            "  chromium-browser chromium-browser-l10n chromium-codecs-ffmpeg-extra\n",
            "Suggested packages:\n",
            "  webaccounts-chromium-extension unity-chromium-extension\n",
            "The following NEW packages will be installed:\n",
            "  chromium-browser chromium-browser-l10n chromium-chromedriver\n",
            "  chromium-codecs-ffmpeg-extra\n",
            "0 upgraded, 4 newly installed, 0 to remove and 39 not upgraded.\n",
            "Need to get 94.0 MB of archives.\n",
            "After this operation, 324 MB of additional disk space will be used.\n",
            "Get:1 http://archive.ubuntu.com/ubuntu bionic-updates/universe amd64 chromium-codecs-ffmpeg-extra amd64 95.0.4638.69-0ubuntu0.18.04.1 [1,135 kB]\n",
            "Get:2 http://archive.ubuntu.com/ubuntu bionic-updates/universe amd64 chromium-browser amd64 95.0.4638.69-0ubuntu0.18.04.1 [83.6 MB]\n",
            "Get:3 http://archive.ubuntu.com/ubuntu bionic-updates/universe amd64 chromium-browser-l10n all 95.0.4638.69-0ubuntu0.18.04.1 [4,249 kB]\n",
            "Get:4 http://archive.ubuntu.com/ubuntu bionic-updates/universe amd64 chromium-chromedriver amd64 95.0.4638.69-0ubuntu0.18.04.1 [4,986 kB]\n",
            "Fetched 94.0 MB in 4s (23.0 MB/s)\n",
            "Selecting previously unselected package chromium-codecs-ffmpeg-extra.\n",
            "(Reading database ... 155229 files and directories currently installed.)\n",
            "Preparing to unpack .../chromium-codecs-ffmpeg-extra_95.0.4638.69-0ubuntu0.18.04.1_amd64.deb ...\n",
            "Unpacking chromium-codecs-ffmpeg-extra (95.0.4638.69-0ubuntu0.18.04.1) ...\n",
            "Selecting previously unselected package chromium-browser.\n",
            "Preparing to unpack .../chromium-browser_95.0.4638.69-0ubuntu0.18.04.1_amd64.deb ...\n",
            "Unpacking chromium-browser (95.0.4638.69-0ubuntu0.18.04.1) ...\n",
            "Selecting previously unselected package chromium-browser-l10n.\n",
            "Preparing to unpack .../chromium-browser-l10n_95.0.4638.69-0ubuntu0.18.04.1_all.deb ...\n",
            "Unpacking chromium-browser-l10n (95.0.4638.69-0ubuntu0.18.04.1) ...\n",
            "Selecting previously unselected package chromium-chromedriver.\n",
            "Preparing to unpack .../chromium-chromedriver_95.0.4638.69-0ubuntu0.18.04.1_amd64.deb ...\n",
            "Unpacking chromium-chromedriver (95.0.4638.69-0ubuntu0.18.04.1) ...\n",
            "Setting up chromium-codecs-ffmpeg-extra (95.0.4638.69-0ubuntu0.18.04.1) ...\n",
            "Setting up chromium-browser (95.0.4638.69-0ubuntu0.18.04.1) ...\n",
            "update-alternatives: using /usr/bin/chromium-browser to provide /usr/bin/x-www-browser (x-www-browser) in auto mode\n",
            "update-alternatives: using /usr/bin/chromium-browser to provide /usr/bin/gnome-www-browser (gnome-www-browser) in auto mode\n",
            "Setting up chromium-chromedriver (95.0.4638.69-0ubuntu0.18.04.1) ...\n",
            "Setting up chromium-browser-l10n (95.0.4638.69-0ubuntu0.18.04.1) ...\n",
            "Processing triggers for man-db (2.8.3-2ubuntu0.1) ...\n",
            "Processing triggers for hicolor-icon-theme (0.17-2) ...\n",
            "Processing triggers for mime-support (3.60ubuntu1) ...\n",
            "Processing triggers for libc-bin (2.27-3ubuntu1.3) ...\n",
            "/sbin/ldconfig.real: /usr/local/lib/python3.7/dist-packages/ideep4py/lib/libmkldnn.so.0 is not a symbolic link\n",
            "\n"
          ]
        }
      ]
    },
    {
      "cell_type": "code",
      "source": [
        "#Import selenium libraries and chrome driver\n",
        "from selenium import webdriver\n",
        "from selenium.webdriver.common.by import By\n",
        "from selenium.webdriver.chrome.options import Options\n",
        "import sys\n",
        "sys.path.insert(0,'/usr/lib/chromium-browser/chromedriver')\n",
        "\n",
        "#Import Google Drive\n",
        "from google.colab import drive\n",
        "drive._mount('/content/gdrive')\n",
        "\n",
        "#Import time and pandas\n",
        "import time \n",
        "from time import sleep\n",
        "import pandas as pd"
      ],
      "metadata": {
        "colab": {
          "base_uri": "https://localhost:8080/"
        },
        "id": "pb4cbgp3Ma6O",
        "outputId": "21dc64dd-1561-46dd-be60-7bf3eea61893"
      },
      "execution_count": 2,
      "outputs": [
        {
          "output_type": "stream",
          "name": "stdout",
          "text": [
            "Mounted at /content/gdrive\n"
          ]
        }
      ]
    },
    {
      "cell_type": "code",
      "source": [
        "#Set Chrome Options\n",
        "options = Options()\n",
        "options.add_argument('--headless')\n",
        "options.add_argument('--no-sandbox')\n",
        "options.add_argument('--disable-dev-shm-usage')\n",
        "prefs = {\"download.default_directory\":\"/content/gdrive/MyDrive/HSSP/LouisvilleKY\"}\n",
        "options.add_experimental_option('prefs', prefs)"
      ],
      "metadata": {
        "id": "7-DmqmqNMiwF"
      },
      "execution_count": 3,
      "outputs": []
    },
    {
      "cell_type": "code",
      "source": [
        "#Set Chrome Driver \n",
        "driver = webdriver.Chrome('chromedriver', chrome_options=options)\n",
        "driver.implicitly_wait(10)"
      ],
      "metadata": {
        "colab": {
          "base_uri": "https://localhost:8080/"
        },
        "id": "eb3Ki2ISMlZ1",
        "outputId": "1b912461-42f3-492f-d382-d47b46bf7eec"
      },
      "execution_count": 4,
      "outputs": [
        {
          "output_type": "stream",
          "name": "stderr",
          "text": [
            "/usr/local/lib/python3.7/dist-packages/ipykernel_launcher.py:2: DeprecationWarning: use options instead of chrome_options\n",
            "  \n"
          ]
        }
      ]
    },
    {
      "cell_type": "code",
      "source": [
        "#Fetch webpage data\n",
        "driver.get(\"https://data.louisvilleky.gov/dataset/crime-reports\")"
      ],
      "metadata": {
        "id": "N2ESulHWMp-r"
      },
      "execution_count": 5,
      "outputs": []
    },
    {
      "cell_type": "code",
      "source": [
        "dwnload = driver.find_element(By.XPATH, \"//*[@id='data-and-resources']/div/div/ul/li[1]/div/span/a\")\n",
        "dwnload.click()\n",
        "\n",
        "sleep(120)"
      ],
      "metadata": {
        "id": "MA9j6ArZMwcb"
      },
      "execution_count": 6,
      "outputs": []
    },
    {
      "cell_type": "code",
      "source": [
        "#Close browser window when complete\n",
        "driver.close()"
      ],
      "metadata": {
        "id": "t_g-MggZMzLH"
      },
      "execution_count": 7,
      "outputs": []
    },
    {
      "cell_type": "code",
      "source": [
        "#Read .csv file\n",
        "df = pd.read_csv('/content/gdrive/MyDrive/HSSP/LouisvilleKY/CRIME_DATA_2021.csv')\n",
        "print(df)"
      ],
      "metadata": {
        "colab": {
          "base_uri": "https://localhost:8080/"
        },
        "id": "sjNoUUNAM4wW",
        "outputId": "08c0eed0-a8ff-414f-f90b-a0445b16f567"
      },
      "execution_count": 10,
      "outputs": [
        {
          "output_type": "stream",
          "name": "stdout",
          "text": [
            "      INCIDENT_NUMBER        DATE_REPORTED  ...        City ZIP_CODE\n",
            "0        INACTIVE      2021-07-28 12:09:00  ...  LOUISVILLE  40206.0\n",
            "1        INACTIVE      2021-07-28 12:09:00  ...  LOUISVILLE  40206.0\n",
            "2        INACTIVE      2021-07-28 12:09:00  ...  LOUISVILLE  40206.0\n",
            "3        80-20-077625  2021-01-01 04:10:00  ...  LOUISVILLE  40218.0\n",
            "4        80-20-077625  2021-01-01 04:10:00  ...  LOUISVILLE  40218.0\n",
            "...               ...                  ...  ...         ...      ...\n",
            "71243    80-22-500040  2021-12-31 13:36:00  ...  LOUISVILLE  40202.0\n",
            "71244    80-22-500041  2021-12-31 16:07:00  ...  LOUISVILLE  40202.0\n",
            "71245    80-22-500045  2021-12-26 13:45:00  ...  LOUISVILLE  40219.0\n",
            "71246    80-21-076108  2021-12-31 02:17:00  ...  LOUISVILLE  40203.0\n",
            "71247    80-21-074560  2021-12-22 16:34:00  ...  LOUISVILLE  40203.0\n",
            "\n",
            "[71248 rows x 14 columns]\n"
          ]
        }
      ]
    }
  ]
}