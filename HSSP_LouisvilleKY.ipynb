{
  "nbformat": 4,
  "nbformat_minor": 0,
  "metadata": {
    "colab": {
      "name": "HSSP_LouisvilleKY.ipynb",
      "provenance": [],
      "collapsed_sections": [],
      "include_colab_link": true
    },
    "kernelspec": {
      "name": "python3",
      "display_name": "Python 3"
    },
    "language_info": {
      "name": "python"
    }
  },
  "cells": [
    {
      "cell_type": "markdown",
      "metadata": {
        "id": "view-in-github",
        "colab_type": "text"
      },
      "source": [
        "<a href=\"https://colab.research.google.com/github/HSSP-DVP-CDC/HSSP_COLAB/blob/main/HSSP_LouisvilleKY.ipynb\" target=\"_parent\"><img src=\"https://colab.research.google.com/assets/colab-badge.svg\" alt=\"Open In Colab\"/></a>"
      ]
    },
    {
      "cell_type": "code",
      "execution_count": null,
      "metadata": {
        "id": "LEUL5TsCBijY"
      },
      "outputs": [],
      "source": [
        "#Louisville, Kentucky"
      ]
    },
    {
      "cell_type": "code",
      "source": [
        "# For PDF conversion\n",
        "!apt-get install texlive texlive-xetex texlive-latex-extra pandoc\n",
        "!pip install pypandoc"
      ],
      "metadata": {
        "id": "9gWnQCILyW2S"
      },
      "execution_count": null,
      "outputs": []
    },
    {
      "cell_type": "code",
      "source": [
        "#Install Selenium and chrome webdriver\n",
        "!pip install selenium\n",
        "!apt-get update \n",
        "!apt install chromium-chromedriver"
      ],
      "metadata": {
        "id": "AstUKtIHMR26"
      },
      "execution_count": null,
      "outputs": []
    },
    {
      "cell_type": "code",
      "source": [
        "#Import selenium libraries and chrome driver\n",
        "from selenium import webdriver\n",
        "from selenium.webdriver.common.by import By\n",
        "from selenium.webdriver.chrome.options import Options\n",
        "import sys\n",
        "sys.path.insert(0,'/usr/lib/chromium-browser/chromedriver')\n",
        "\n",
        "#Import time and pandas\n",
        "import time \n",
        "from time import sleep\n",
        "import pandas as pd"
      ],
      "metadata": {
        "id": "pb4cbgp3Ma6O"
      },
      "execution_count": null,
      "outputs": []
    },
    {
      "cell_type": "code",
      "source": [
        "#Import Google Drive\n",
        "#USERNAME: ------@gmail.com\n",
        "#PASSWORD: ------\n",
        "from google.colab import drive\n",
        "drive.mount('/content/gdrive')"
      ],
      "metadata": {
        "id": "c5f22sN-A9bh"
      },
      "execution_count": null,
      "outputs": []
    },
    {
      "cell_type": "code",
      "source": [
        "#Set Chrome Options\n",
        "options = Options()\n",
        "options.add_argument('--headless')\n",
        "options.add_argument('--no-sandbox')\n",
        "options.add_argument('--disable-dev-shm-usage')\n",
        "prefs = {\"download.default_directory\":\"/content/gdrive/MyDrive/HSSP/LouisvilleKY\"}\n",
        "options.add_experimental_option('prefs', prefs)"
      ],
      "metadata": {
        "id": "7-DmqmqNMiwF"
      },
      "execution_count": null,
      "outputs": []
    },
    {
      "cell_type": "code",
      "source": [
        "#Set Chrome Driver \n",
        "driver = webdriver.Chrome('chromedriver', chrome_options=options)\n",
        "driver.implicitly_wait(10)"
      ],
      "metadata": {
        "id": "eb3Ki2ISMlZ1"
      },
      "execution_count": null,
      "outputs": []
    },
    {
      "cell_type": "code",
      "source": [
        "#Fetch webpage data\n",
        "driver.get(\"https://data.louisvilleky.gov/dataset/crime-reports\")"
      ],
      "metadata": {
        "id": "N2ESulHWMp-r"
      },
      "execution_count": null,
      "outputs": []
    },
    {
      "cell_type": "code",
      "source": [
        "dwnload = driver.find_element(By.XPATH, \"//*[@id='data-and-resources']/div/div/ul/li[1]/div/span/a\")\n",
        "dwnload.click()\n",
        "\n",
        "sleep(120)\n",
        "print(\"Sleep Complete\")"
      ],
      "metadata": {
        "id": "MA9j6ArZMwcb"
      },
      "execution_count": null,
      "outputs": []
    },
    {
      "cell_type": "code",
      "source": [
        "#Close browser window when complete\n",
        "driver.close()\n",
        "print(\"Driver closed\")"
      ],
      "metadata": {
        "id": "t_g-MggZMzLH"
      },
      "execution_count": null,
      "outputs": []
    },
    {
      "cell_type": "code",
      "source": [
        "#Read .csv file\n",
        "df = pd.read_csv('/content/gdrive/MyDrive/HSSP/LouisvilleKY/CRIME_DATA_2021.csv')\n",
        "# print(df)"
      ],
      "metadata": {
        "id": "sjNoUUNAM4wW"
      },
      "execution_count": null,
      "outputs": []
    },
    {
      "cell_type": "code",
      "source": [
        "# Sort the data\n",
        "sorted_df = df.sort_values(by=[\"DATE_REPORTED\"], ascending=False)\n",
        "\n",
        "#Create new dataframe\n",
        "sorted_df.to_csv('/content/gdrive/MyDrive/HSSP/LouisvilleKY/kentucky_homicide_sorted.csv', index=False)\n",
        "\n",
        "df = pd.read_csv(\"/content/gdrive/MyDrive/HSSP/LouisvilleKY/kentucky_homicide_sorted.csv\")\n",
        "# print(df)"
      ],
      "metadata": {
        "id": "S_wQDAXbAc21"
      },
      "execution_count": null,
      "outputs": []
    },
    {
      "cell_type": "code",
      "source": [
        "#Grab only values that are '09A' or 'Murder'\n",
        "contain_values = df[df['NIBRS_CODE'].str.contains('09A')]\n",
        "print(contain_values)\n",
        "\n",
        "#Create new dataframe\n",
        "contain_values.to_csv('/content/gdrive/MyDrive/HSSP/LouisvilleKY/kentucky_homicide_09A.csv', index=False)\n",
        "\n",
        "df = pd.read_csv(\"/content/gdrive/MyDrive/HSSP/LouisvilleKY/kentucky_homicide_09A.csv\")\n",
        "print(df)"
      ],
      "metadata": {
        "id": "8BFqWbNgAe6A"
      },
      "execution_count": null,
      "outputs": []
    },
    {
      "cell_type": "code",
      "source": [
        "print(\"Program complete\")"
      ],
      "metadata": {
        "id": "rl8SEoqbUE_w"
      },
      "execution_count": null,
      "outputs": []
    },
    {
      "cell_type": "code",
      "source": [
        "## FOR PDF CONVERSIONS ##"
      ],
      "metadata": {
        "id": "ZWYyPSttygCP"
      },
      "execution_count": null,
      "outputs": []
    },
    {
      "cell_type": "code",
      "source": [
        "# Copy into working directory\n",
        "!cp /content/gdrive/MyDrive/ColabNotebooks/HSSP_LouisvilleKY.ipynb ./"
      ],
      "metadata": {
        "id": "7vPJPrkgylbP"
      },
      "execution_count": null,
      "outputs": []
    },
    {
      "cell_type": "code",
      "source": [
        "# Convert to PDF\n",
        "!jupyter nbconvert --to PDF \"HSSP_LouisvilleKY.ipynb\" "
      ],
      "metadata": {
        "colab": {
          "base_uri": "https://localhost:8080/"
        },
        "id": "xWxQUuOzw5aW",
        "outputId": "697af655-f54f-4f17-ae0a-7e1db5460c22"
      },
      "execution_count": null,
      "outputs": [
        {
          "output_type": "stream",
          "name": "stdout",
          "text": [
            "[NbConvertApp] Converting notebook HSSP_LouisvilleKY.ipynb to PDF\n",
            "[NbConvertApp] Writing 31244 bytes to ./notebook.tex\n",
            "[NbConvertApp] Building PDF\n",
            "[NbConvertApp] Running xelatex 3 times: [u'xelatex', u'./notebook.tex', '-quiet']\n",
            "[NbConvertApp] Running bibtex 1 time: [u'bibtex', u'./notebook']\n",
            "[NbConvertApp] WARNING | bibtex had problems, most likely because there were no citations\n",
            "[NbConvertApp] PDF successfully created\n",
            "[NbConvertApp] Writing 29312 bytes to HSSP_LouisvilleKY.pdf\n"
          ]
        }
      ]
    }
  ]
}