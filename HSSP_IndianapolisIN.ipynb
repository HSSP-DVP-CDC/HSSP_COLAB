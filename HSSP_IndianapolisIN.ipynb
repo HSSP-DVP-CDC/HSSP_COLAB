{
  "nbformat": 4,
  "nbformat_minor": 0,
  "metadata": {
    "colab": {
      "name": "HSSP_IndianapolisIN.ipynb",
      "provenance": [],
      "collapsed_sections": [],
      "include_colab_link": true
    },
    "kernelspec": {
      "name": "python3",
      "display_name": "Python 3"
    },
    "language_info": {
      "name": "python"
    }
  },
  "cells": [
    {
      "cell_type": "markdown",
      "metadata": {
        "id": "view-in-github",
        "colab_type": "text"
      },
      "source": [
        "<a href=\"https://colab.research.google.com/github/HSSP-DVP-CDC/HSSP_COLAB/blob/main/HSSP_IndianapolisIN.ipynb\" target=\"_parent\"><img src=\"https://colab.research.google.com/assets/colab-badge.svg\" alt=\"Open In Colab\"/></a>"
      ]
    },
    {
      "cell_type": "code",
      "execution_count": null,
      "metadata": {
        "id": "8XS2MaSF-vLx"
      },
      "outputs": [],
      "source": [
        "#Indianapolis, Indiana\n",
        "#https://databases.indystar.com/indianapolis-crime-list-of-all-criminal-homicides-in-2021/\n",
        "#TUTORIAL: https://www.youtube.com/watch?v=JLDbAx6LAdo"
      ]
    },
    {
      "cell_type": "code",
      "source": [
        "# For PDF conversion\n",
        "!apt-get install texlive texlive-xetex texlive-latex-extra pandoc\n",
        "!pip install pypandoc"
      ],
      "metadata": {
        "id": "GuxrnDGk-yf0"
      },
      "execution_count": null,
      "outputs": []
    },
    {
      "cell_type": "code",
      "source": [
        "#Install Selenium and chrome webdriver\n",
        "!pip install selenium\n",
        "!apt-get update \n",
        "!apt install chromium-chromedriver"
      ],
      "metadata": {
        "id": "W7AjllYx-8Gd"
      },
      "execution_count": null,
      "outputs": []
    },
    {
      "cell_type": "code",
      "source": [
        "#Import Google Drive\n",
        "#USERNAME: ------@gmail.com\n",
        "#PASSWORD: ------\n",
        "from google.colab import drive\n",
        "drive.mount('/content/gdrive')"
      ],
      "metadata": {
        "id": "LW5KzM-rCg-6"
      },
      "execution_count": null,
      "outputs": []
    },
    {
      "cell_type": "code",
      "source": [
        "#Import selenium libraries and chrome driver\n",
        "from selenium import webdriver\n",
        "from selenium.webdriver.common.by import By\n",
        "from selenium.webdriver.chrome.options import Options\n",
        "import sys\n",
        "sys.path.insert(0,'/usr/lib/chromium-browser/chromedriver')\n",
        "\n",
        "#Import time and pandas\n",
        "import time \n",
        "from time import sleep\n",
        "import pandas as pd"
      ],
      "metadata": {
        "id": "t3HVnsO8_AwT"
      },
      "execution_count": null,
      "outputs": []
    },
    {
      "cell_type": "code",
      "source": [
        "#Set Chrome Options\n",
        "options = Options()\n",
        "options.add_argument('--headless')\n",
        "options.add_argument('--no-sandbox')\n",
        "options.add_argument('--disable-dev-shm-usage')\n",
        "prefs = {\"download.default_directory\":\"/content/gdrive/MyDrive/HSSP/IndianapolisIN\"}\n",
        "options.add_experimental_option('prefs', prefs)"
      ],
      "metadata": {
        "id": "bSgTuujT_Eyv"
      },
      "execution_count": null,
      "outputs": []
    },
    {
      "cell_type": "code",
      "source": [
        "#Set Chrome Driver \n",
        "driver = webdriver.Chrome('chromedriver', chrome_options=options)\n",
        "driver.implicitly_wait(10)"
      ],
      "metadata": {
        "id": "qsEfHQQC_IJC"
      },
      "execution_count": null,
      "outputs": []
    },
    {
      "cell_type": "code",
      "source": [
        "#Fetch webpage data\n",
        "driver.get(\"https://databases.indystar.com/indianapolis-crime-list-of-all-criminal-homicides-in-2021/\")\n",
        "#print(response.text)"
      ],
      "metadata": {
        "id": "Btryy9YU_LOc"
      },
      "execution_count": null,
      "outputs": []
    },
    {
      "cell_type": "code",
      "source": [
        "#Create variables and grab data from site\n",
        "incident_number = driver.find_elements(By.XPATH, \"//*[@id='csp-data']/div/div[3]/div/div[1]/table/tbody/tr/td[1]/a\")\n",
        "incident_date = driver.find_elements(By.XPATH, \"//*[@id='csp-data']/div/div[3]/div/div[1]/table/tbody/tr/td[2]\")\n",
        "incident_location = driver.find_elements(By.XPATH, \"//*[@id='csp-data']/div/div[3]/div/div[1]/table/tbody/tr/td[3]\")\n",
        "victim_id = driver.find_elements(By.XPATH, \"//*[@id='csp-data']/div/div[3]/div/div[1]/table/tbody/tr/td[4]\")\n",
        "victim_race = driver.find_elements(By.XPATH, \"//*[@id='csp-data']/div/div[3]/div/div[1]/table/tbody/tr/td[5]\")\n",
        "victim_sex = driver.find_elements(By.XPATH, \"//*[@id='csp-data']/div/div[3]/div/div[1]/table/tbody/tr/td[6]\")\n",
        "victim_age = driver.find_elements(By.XPATH, \"//*[@id='csp-data']/div/div[3]/div/div[1]/table/tbody/tr/td[7]\")  \n",
        "incident_method = driver.find_elements(By.XPATH, \"//*[@id='csp-data']/div/div[3]/div/div[1]/table/tbody/tr/td[8]\")                    \n",
        "\n",
        "#Homcide Results\n",
        "homicide_results =[]\n",
        "\n",
        "for i in range(len(incident_number)):\n",
        "    temporary_data = {\"Incident Number\" : incident_number[i].text,\n",
        "                      \"Incident Date\" : incident_date[i].text,\n",
        "                      \"Incident Location\" : incident_location[i].text,\n",
        "                      \"Victim ID\" : victim_id[i].text,\n",
        "                      \"Victim Race\" : victim_race[i].text,\n",
        "                      \"Victim Sex\" : victim_sex[i].text,\n",
        "                      \"Victim Age\" : victim_age[i].text,\n",
        "                      \"Incident Method\" : incident_method[i].text\n",
        "                      }\n",
        "    homicide_results.append(temporary_data)\n",
        "\n",
        "#Create a dataframe using Pandas\n",
        "df = pd.DataFrame(homicide_results)\n",
        "# print(df)"
      ],
      "metadata": {
        "id": "difxmBCh_PS5"
      },
      "execution_count": null,
      "outputs": []
    },
    {
      "cell_type": "code",
      "source": [
        "#Export data to csv\n",
        "df.to_csv(r'/content/gdrive/MyDrive/HSSP/IndianapolisIN/indianapolis_murderdata.xlsx', index = False)"
      ],
      "metadata": {
        "id": "KfZs92j7ABgG"
      },
      "execution_count": null,
      "outputs": []
    },
    {
      "cell_type": "code",
      "source": [
        "# Read the csv into the console\n",
        "df = pd.read_csv(\"/content/gdrive/MyDrive/HSSP/IndianapolisIN/indianapolis_murderdata.xlsx\")\n",
        "# print(df)"
      ],
      "metadata": {
        "id": "0E9ai1RcYDN1"
      },
      "execution_count": null,
      "outputs": []
    },
    {
      "cell_type": "code",
      "source": [
        "# Sort the data\n",
        "sorted_df = df.sort_values(by=[\"Incident Number\"], ascending=False)\n",
        "# print(sorted_df)\n",
        "\n",
        "#Create new dataframe\n",
        "sorted_df.to_csv('/content/gdrive/MyDrive/HSSP/IndianapolisIN/indianapolis_homicide_sorted.csv', index=False)\n",
        "\n",
        "df = pd.read_csv(\"/content/gdrive/MyDrive/HSSP/IndianapolisIN/indianapolis_homicide_sorted.csv\")\n",
        "print(df)\n"
      ],
      "metadata": {
        "id": "ldOHrRNCYgJf"
      },
      "execution_count": null,
      "outputs": []
    },
    {
      "cell_type": "code",
      "source": [
        "print(\"Program complete\")"
      ],
      "metadata": {
        "id": "UfzamvuEZX2y"
      },
      "execution_count": null,
      "outputs": []
    },
    {
      "cell_type": "code",
      "source": [
        "## FOR PDF CONVERSIONS ##\n",
        "\n",
        "# Copy into working directory\n",
        "!cp /content/gdrive/MyDrive/ColabNotebooks/HSSP_IndianapolisIN.ipynb ./\n",
        "\n",
        "# Convert to PDF\n",
        "!jupyter nbconvert --to PDF \"HSSP_IndianapolisIN.ipynb\" "
      ],
      "metadata": {
        "id": "LXEP9rjQ_Evp"
      },
      "execution_count": null,
      "outputs": []
    }
  ]
}